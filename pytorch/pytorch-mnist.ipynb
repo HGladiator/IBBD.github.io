{
 "cells": [
  {
   "cell_type": "code",
   "execution_count": 9,
   "metadata": {},
   "outputs": [],
   "source": [
    "%matplotlib inline\n",
    "import torch\n",
    "import numpy as np\n",
    "import matplotlib.pylab as plt\n",
    "from torchvision import datasets, transforms"
   ]
  },
  {
   "cell_type": "code",
   "execution_count": 34,
   "metadata": {},
   "outputs": [
    {
     "data": {
      "text/plain": [
       "\u001b[0;31mInit signature:\u001b[0m\n",
       "\u001b[0mdatasets\u001b[0m\u001b[0;34m.\u001b[0m\u001b[0mMNIST\u001b[0m\u001b[0;34m(\u001b[0m\u001b[0;34m\u001b[0m\n",
       "\u001b[0;34m\u001b[0m    \u001b[0mroot\u001b[0m\u001b[0;34m,\u001b[0m\u001b[0;34m\u001b[0m\n",
       "\u001b[0;34m\u001b[0m    \u001b[0mtrain\u001b[0m\u001b[0;34m=\u001b[0m\u001b[0;32mTrue\u001b[0m\u001b[0;34m,\u001b[0m\u001b[0;34m\u001b[0m\n",
       "\u001b[0;34m\u001b[0m    \u001b[0mtransform\u001b[0m\u001b[0;34m=\u001b[0m\u001b[0;32mNone\u001b[0m\u001b[0;34m,\u001b[0m\u001b[0;34m\u001b[0m\n",
       "\u001b[0;34m\u001b[0m    \u001b[0mtarget_transform\u001b[0m\u001b[0;34m=\u001b[0m\u001b[0;32mNone\u001b[0m\u001b[0;34m,\u001b[0m\u001b[0;34m\u001b[0m\n",
       "\u001b[0;34m\u001b[0m    \u001b[0mdownload\u001b[0m\u001b[0;34m=\u001b[0m\u001b[0;32mFalse\u001b[0m\u001b[0;34m,\u001b[0m\u001b[0;34m\u001b[0m\n",
       "\u001b[0;34m\u001b[0m\u001b[0;34m)\u001b[0m\u001b[0;34m\u001b[0m\u001b[0;34m\u001b[0m\u001b[0m\n",
       "\u001b[0;31mDocstring:\u001b[0m     \n",
       "`MNIST <http://yann.lecun.com/exdb/mnist/>`_ Dataset.\n",
       "\n",
       "Args:\n",
       "    root (string): Root directory of dataset where ``processed/training.pt``\n",
       "        and  ``processed/test.pt`` exist.\n",
       "    train (bool, optional): If True, creates dataset from ``training.pt``,\n",
       "        otherwise from ``test.pt``.\n",
       "    download (bool, optional): If true, downloads the dataset from the internet and\n",
       "        puts it in root directory. If dataset is already downloaded, it is not\n",
       "        downloaded again.\n",
       "    transform (callable, optional): A function/transform that  takes in an PIL image\n",
       "        and returns a transformed version. E.g, ``transforms.RandomCrop``\n",
       "    target_transform (callable, optional): A function/transform that takes in the\n",
       "        target and transforms it.\n",
       "\u001b[0;31mFile:\u001b[0m           /opt/conda/lib/python3.6/site-packages/torchvision/datasets/mnist.py\n",
       "\u001b[0;31mType:\u001b[0m           type\n",
       "\u001b[0;31mSubclasses:\u001b[0m     FashionMNIST, KMNIST, EMNIST\n"
      ]
     },
     "metadata": {},
     "output_type": "display_data"
    }
   ],
   "source": [
    "datasets.MNIST?"
   ]
  },
  {
   "cell_type": "code",
   "execution_count": 66,
   "metadata": {},
   "outputs": [],
   "source": [
    "transform = transforms.ToTensor()\n",
    "\n",
    "trainset = datasets.MNIST('MNIST_data/', download=True, train=True, transform=transform)\n",
    "trainloader = torch.utils.data.DataLoader(trainset, batch_size=64, shuffle=True)\n",
    "\n",
    "testset = datasets.MNIST('MNIST_data/', train=False, download=True, transform=transform)\n",
    "testloader = torch.utils.data.DataLoader(testset, batch_size=64, shuffle=False)"
   ]
  },
  {
   "cell_type": "code",
   "execution_count": 32,
   "metadata": {},
   "outputs": [
    {
     "name": "stdout",
     "output_type": "stream",
     "text": [
      "<class 'torch.Tensor'>\n",
      "torch.Size([64, 1, 28, 28]) torch.Size([64])\n"
     ]
    }
   ],
   "source": [
    "data_iter = iter(trainloader)\n",
    "images, labels = data_iter.next()\n",
    "print(type(images))\n",
    "print(images.shape, labels.shape)"
   ]
  },
  {
   "cell_type": "code",
   "execution_count": 33,
   "metadata": {},
   "outputs": [
    {
     "data": {
      "text/plain": [
       "<matplotlib.image.AxesImage at 0x7f4ea9ce8438>"
      ]
     },
     "execution_count": 33,
     "metadata": {},
     "output_type": "execute_result"
    },
    {
     "data": {
      "image/png": "[encoded data removed]",
      "text/plain": [
       "<Figure size 432x288 with 1 Axes>"
      ]
     },
     "metadata": {
      "needs_background": "light"
     },
     "output_type": "display_data"
    }
   ],
   "source": [
    "plt.imshow(images[1].numpy().squeeze())"
   ]
  },
  {
   "cell_type": "code",
   "execution_count": 38,
   "metadata": {},
   "outputs": [
    {
     "name": "stdout",
     "output_type": "stream",
     "text": [
      "torch.Size([64, 1, 28, 28]) torch.Size([64, 784])\n"
     ]
    }
   ],
   "source": [
    "def activation(x):\n",
    "    return 1/(1+torch.exp(-x))\n",
    "\n",
    "inputs = images.view(images.shape[0], -1)\n",
    "print(images.shape, inputs.shape)"
   ]
  },
  {
   "cell_type": "code",
   "execution_count": 39,
   "metadata": {},
   "outputs": [],
   "source": [
    "w1 = torch.randn(784, 256)\n",
    "b1 = torch.randn(256)\n",
    "\n",
    "w2 = torch.randn(256, 10)\n",
    "b2 = torch.randn(10)\n",
    "\n",
    "h = activation(torch.mm(inputs, w1) + b1)\n",
    "out = torch.mm(h, w2) + b2     # 属于各个数字的分布"
   ]
  },
  {
   "cell_type": "code",
   "execution_count": 48,
   "metadata": {},
   "outputs": [
    {
     "name": "stdout",
     "output_type": "stream",
     "text": [
      "torch.Size([64, 10]) torch.Size([64])\n",
      "labels:  tensor([2, 4, 8, 4])\n"
     ]
    },
    {
     "data": {
      "text/plain": [
       "tensor([[  0.3913, -12.5249,   7.6558,  -9.5013,   4.7528,  -3.1489, -16.7274,\n",
       "           6.7377,   2.1634,  -6.4114],\n",
       "        [ -9.7542, -15.7317,  16.6697, -12.3902,  -1.6166,  -7.1777,  -7.4016,\n",
       "          10.9677,   7.3043,  -8.9195],\n",
       "        [ -2.2503,   0.5217,   2.3960,  -8.8337,  -2.0826,  -3.5904, -19.4348,\n",
       "           4.9641,   0.7638, -12.3266],\n",
       "        [-13.3044, -19.4099,   4.5646,  -5.7069,  -0.5667,  -4.4339, -10.3709,\n",
       "           2.6410,   6.4628, -12.0158]])"
      ]
     },
     "execution_count": 48,
     "metadata": {},
     "output_type": "execute_result"
    }
   ],
   "source": [
    "print(out.shape, labels.shape)\n",
    "print(\"labels: \", labels[:4])\n",
    "out[:4]   # 没有经过训练，分布还对应不上"
   ]
  },
  {
   "cell_type": "code",
   "execution_count": 50,
   "metadata": {},
   "outputs": [
    {
     "name": "stdout",
     "output_type": "stream",
     "text": [
      "tensor([[4.7977e-04, 1.1792e-09, 6.8541e-01, 2.4250e-08, 3.7601e-02, 1.3917e-05,\n",
      "         1.7638e-11, 2.7368e-01, 2.8223e-03, 5.3289e-07],\n",
      "        [3.3324e-12, 8.4487e-15, 9.9659e-01, 2.3875e-13, 1.1400e-08, 4.3826e-11,\n",
      "         3.5034e-11, 3.3281e-03, 8.5345e-05, 7.6788e-12],\n",
      "        [6.6587e-04, 1.0647e-02, 6.9378e-02, 9.2096e-07, 7.8742e-04, 1.7433e-04,\n",
      "         2.2922e-11, 9.0478e-01, 1.3564e-02, 2.8010e-08],\n",
      "        [2.2185e-09, 4.9487e-12, 1.2778e-01, 4.4220e-06, 7.5507e-04, 1.5793e-05,\n",
      "         4.1694e-08, 1.8666e-02, 8.5278e-01, 8.0484e-09]])\n",
      "torch.Size([64, 10]) tensor([1.0000, 1.0000, 1.0000, 1.0000, 1.0000, 1.0000, 1.0000, 1.0000, 1.0000,\n",
      "        1.0000, 1.0000, 1.0000, 1.0000, 1.0000, 1.0000, 1.0000, 1.0000, 1.0000,\n",
      "        1.0000, 1.0000, 1.0000, 1.0000, 1.0000, 1.0000, 1.0000, 1.0000, 1.0000,\n",
      "        1.0000, 1.0000, 1.0000, 1.0000, 1.0000, 1.0000, 1.0000, 1.0000, 1.0000,\n",
      "        1.0000, 1.0000, 1.0000, 1.0000, 1.0000, 1.0000, 1.0000, 1.0000, 1.0000,\n",
      "        1.0000, 1.0000, 1.0000, 1.0000, 1.0000, 1.0000, 1.0000, 1.0000, 1.0000,\n",
      "        1.0000, 1.0000, 1.0000, 1.0000, 1.0000, 1.0000, 1.0000, 1.0000, 1.0000,\n",
      "        1.0000])\n"
     ]
    }
   ],
   "source": [
    "def softmax(x):\n",
    "    return torch.exp(x) / torch.sum(torch.exp(x), dim=1).view(-1, 1)\n",
    "\n",
    "# 计算概率\n",
    "probs = softmax(out)\n",
    "print(probs[:4])\n",
    "print(probs.shape, probs.sum(dim=1))"
   ]
  },
  {
   "cell_type": "code",
   "execution_count": 59,
   "metadata": {},
   "outputs": [],
   "source": [
    "from torch import nn\n",
    "import torch.nn.functional as F\n",
    "\n",
    "class Network(nn.Module):\n",
    "    def __init__(self):\n",
    "        super().__init__()\n",
    "        # 输入768特征，输出特征256\n",
    "        self.hidden = nn.Linear(768, 256)\n",
    "        self.output = nn.Linear(256, 10)\n",
    "        self.sigmoid = nn.Sigmoid()\n",
    "        self.softmax = nn.Softmax(dim=1)\n",
    "        \n",
    "    def forword(self, x):\n",
    "        x = self.hidden(x)\n",
    "        x = self.sigmoid(x)\n",
    "        # x = F.sigmoid(x)\n",
    "        x = self.output(x)\n",
    "        x = self.softmax(x)\n",
    "        # x = F.softmax(x, dim=1)\n",
    "        return x"
   ]
  },
  {
   "cell_type": "code",
   "execution_count": 60,
   "metadata": {},
   "outputs": [
    {
     "data": {
      "text/plain": [
       "Network(\n",
       "  (hidden): Linear(in_features=768, out_features=256, bias=True)\n",
       "  (output): Linear(in_features=256, out_features=10, bias=True)\n",
       "  (sigmoid): Sigmoid()\n",
       "  (softmax): Softmax()\n",
       ")"
      ]
     },
     "execution_count": 60,
     "metadata": {},
     "output_type": "execute_result"
    }
   ],
   "source": [
    "model = Network()\n",
    "model"
   ]
  },
  {
   "cell_type": "code",
   "execution_count": 71,
   "metadata": {},
   "outputs": [
    {
     "data": {
      "text/plain": [
       "Sequential(\n",
       "  (0): Linear(in_features=784, out_features=256, bias=True)\n",
       "  (1): ReLU()\n",
       "  (2): Linear(in_features=256, out_features=64, bias=True)\n",
       "  (3): ReLU()\n",
       "  (4): Linear(in_features=64, out_features=10, bias=True)\n",
       "  (5): LogSoftmax()\n",
       ")"
      ]
     },
     "execution_count": 71,
     "metadata": {},
     "output_type": "execute_result"
    }
   ],
   "source": [
    "model = nn.Sequential(nn.Linear(784, 256),\n",
    "                      nn.ReLU(),\n",
    "                      nn.Linear(256, 64),\n",
    "                      nn.ReLU(),\n",
    "                      nn.Linear(64, 10),\n",
    "                      nn.LogSoftmax(dim=1))\n",
    "model"
   ]
  },
  {
   "cell_type": "code",
   "execution_count": 83,
   "metadata": {},
   "outputs": [
    {
     "name": "stdout",
     "output_type": "stream",
     "text": [
      "torch.Size([64, 1, 28, 28])\n",
      "torch.Size([64, 784])\n"
     ]
    },
    {
     "data": {
      "text/plain": [
       "tensor(2.2915, grad_fn=<NllLossBackward>)"
      ]
     },
     "execution_count": 83,
     "metadata": {},
     "output_type": "execute_result"
    }
   ],
   "source": [
    "# 前向计算loss\n",
    "criterion = nn.NLLLoss()\n",
    "images, labels = next(iter(trainloader))\n",
    "print(images.shape)\n",
    "images = images.view(images.shape[0], -1)\n",
    "print(images.shape)\n",
    "logps = model(images)\n",
    "loss = criterion(logps, labels)\n",
    "loss"
   ]
  },
  {
   "cell_type": "code",
   "execution_count": 74,
   "metadata": {},
   "outputs": [
    {
     "name": "stdout",
     "output_type": "stream",
     "text": [
      "tensor([0.], requires_grad=True) False\n"
     ]
    }
   ],
   "source": [
    "x = torch.zeros(1, requires_grad=True)\n",
    "with torch.no_grad():\n",
    "    y = x * 2\n",
    "    \n",
    "print(x, y.requires_grad)"
   ]
  },
  {
   "cell_type": "code",
   "execution_count": 78,
   "metadata": {},
   "outputs": [
    {
     "name": "stdout",
     "output_type": "stream",
     "text": [
      "tensor([[ 1.1708, -0.7890],\n",
      "        [ 0.8358, -0.4550]], requires_grad=True) tensor([[1.3708, 0.6224],\n",
      "        [0.6985, 0.2070]], grad_fn=<PowBackward0>)\n",
      "<PowBackward0 object at 0x7f4ea2c78b38>\n"
     ]
    }
   ],
   "source": [
    "x = torch.randn(2, 2, requires_grad=True)\n",
    "y = x ** 2\n",
    "print(x, y)\n",
    "print(y.grad_fn)   # PowBackward0: 幂，反向传播"
   ]
  },
  {
   "cell_type": "code",
   "execution_count": 79,
   "metadata": {},
   "outputs": [
    {
     "name": "stdout",
     "output_type": "stream",
     "text": [
      "None\n"
     ]
    }
   ],
   "source": [
    "print(x.grad)    # 这里尚未进行梯度计算"
   ]
  },
  {
   "cell_type": "code",
   "execution_count": 81,
   "metadata": {},
   "outputs": [
    {
     "name": "stdout",
     "output_type": "stream",
     "text": [
      "tensor(0.7247, grad_fn=<MeanBackward1>)\n",
      "tensor([[ 0.5854, -0.3945],\n",
      "        [ 0.4179, -0.2275]])\n",
      "tensor([[ 0.5854, -0.3945],\n",
      "        [ 0.4179, -0.2275]], grad_fn=<DivBackward0>)\n"
     ]
    }
   ],
   "source": [
    "# 反向计算梯度\n",
    "z = y.mean()\n",
    "z.backward()\n",
    "print(z)\n",
    "print(x.grad)\n",
    "print(x/2)"
   ]
  },
  {
   "cell_type": "code",
   "execution_count": 84,
   "metadata": {},
   "outputs": [
    {
     "name": "stdout",
     "output_type": "stream",
     "text": [
      "反向传播前的梯度 tensor([[0., 0., 0.,  ..., 0., 0., 0.],\n",
      "        [0., 0., 0.,  ..., 0., 0., 0.],\n",
      "        [0., 0., 0.,  ..., 0., 0., 0.],\n",
      "        ...,\n",
      "        [0., 0., 0.,  ..., 0., 0., 0.],\n",
      "        [0., 0., 0.,  ..., 0., 0., 0.],\n",
      "        [0., 0., 0.,  ..., 0., 0., 0.]])\n",
      "反向传播后的梯度 tensor([[0., 0., 0.,  ..., 0., 0., 0.],\n",
      "        [0., 0., 0.,  ..., 0., 0., 0.],\n",
      "        [0., 0., 0.,  ..., 0., 0., 0.],\n",
      "        ...,\n",
      "        [0., 0., 0.,  ..., 0., 0., 0.],\n",
      "        [0., 0., 0.,  ..., 0., 0., 0.],\n",
      "        [0., 0., 0.,  ..., 0., 0., 0.]])\n"
     ]
    }
   ],
   "source": [
    "print('反向传播前的梯度', model[0].weight.grad)\n",
    "loss.backward()\n",
    "print('反向传播后的梯度', model[0].weight.grad)"
   ]
  },
  {
   "cell_type": "code",
   "execution_count": 87,
   "metadata": {},
   "outputs": [
    {
     "name": "stdout",
     "output_type": "stream",
     "text": [
      "<generator object Module.parameters at 0x7f4ea295d0a0> SGD (\n",
      "Parameter Group 0\n",
      "    dampening: 0\n",
      "    lr: 0.01\n",
      "    momentum: 0\n",
      "    nesterov: False\n",
      "    weight_decay: 0\n",
      ")\n"
     ]
    }
   ],
   "source": [
    "from torch import optim\n",
    "\n",
    "optimizer = optim.SGD(model.parameters(), lr=0.01)\n",
    "print(model.parameters(), optimizer)"
   ]
  },
  {
   "cell_type": "code",
   "execution_count": 90,
   "metadata": {},
   "outputs": [
    {
     "name": "stdout",
     "output_type": "stream",
     "text": [
      "init weights:  Parameter containing:\n",
      "tensor([[ 0.0063, -0.0260, -0.0060,  ..., -0.0098, -0.0287,  0.0238],\n",
      "        [-0.0103, -0.0260,  0.0270,  ...,  0.0325, -0.0270, -0.0182],\n",
      "        [ 0.0199, -0.0280, -0.0144,  ...,  0.0318,  0.0099, -0.0046],\n",
      "        ...,\n",
      "        [ 0.0183, -0.0291,  0.0239,  ...,  0.0253,  0.0256,  0.0090],\n",
      "        [ 0.0099,  0.0283,  0.0080,  ...,  0.0314,  0.0079, -0.0162],\n",
      "        [-0.0057,  0.0036, -0.0335,  ...,  0.0029, -0.0320, -0.0136]],\n",
      "       requires_grad=True)\n",
      "torch.Size([64, 1, 28, 28])\n",
      "tensor(2.3113, grad_fn=<NllLossBackward>)\n",
      "after gradient:  tensor([[0., 0., 0.,  ..., 0., 0., 0.],\n",
      "        [0., 0., 0.,  ..., 0., 0., 0.],\n",
      "        [0., 0., 0.,  ..., 0., 0., 0.],\n",
      "        ...,\n",
      "        [0., 0., 0.,  ..., 0., 0., 0.],\n",
      "        [0., 0., 0.,  ..., 0., 0., 0.],\n",
      "        [0., 0., 0.,  ..., 0., 0., 0.]])\n"
     ]
    }
   ],
   "source": [
    "print('init weights: ', model[0].weight)\n",
    "\n",
    "images, labels = next(iter(trainloader))\n",
    "print(images.shape)\n",
    "images = images.view(images.shape[0], -1)\n",
    "output = model.forward(images)\n",
    "\n",
    "criterion = nn.NLLLoss()\n",
    "loss = criterion(output, labels)\n",
    "print(loss)\n",
    "print('after gradient: ', model[0].weight.grad)"
   ]
  },
  {
   "cell_type": "code",
   "execution_count": 91,
   "metadata": {},
   "outputs": [
    {
     "name": "stdout",
     "output_type": "stream",
     "text": [
      "update weights:  Parameter containing:\n",
      "tensor([[ 0.0063, -0.0260, -0.0060,  ..., -0.0098, -0.0287,  0.0238],\n",
      "        [-0.0103, -0.0260,  0.0270,  ...,  0.0325, -0.0270, -0.0182],\n",
      "        [ 0.0199, -0.0280, -0.0144,  ...,  0.0318,  0.0099, -0.0046],\n",
      "        ...,\n",
      "        [ 0.0183, -0.0291,  0.0239,  ...,  0.0253,  0.0256,  0.0090],\n",
      "        [ 0.0099,  0.0283,  0.0080,  ...,  0.0314,  0.0079, -0.0162],\n",
      "        [-0.0057,  0.0036, -0.0335,  ...,  0.0029, -0.0320, -0.0136]],\n",
      "       requires_grad=True)\n"
     ]
    }
   ],
   "source": [
    "optimizer.zero_grad()\n",
    "optimizer.step()\n",
    "print('update weights: ', model[0].weight)"
   ]
  },
  {
   "cell_type": "code",
   "execution_count": 103,
   "metadata": {},
   "outputs": [],
   "source": [
    "def train(trainloader, epochs=5):\n",
    "    model = nn.Sequential(nn.Linear(784, 256),\n",
    "                         nn.ReLU(),\n",
    "                         nn.Linear(256, 64),\n",
    "                         nn.ReLU(),\n",
    "                         nn.Linear(64, 10),\n",
    "                         nn.LogSoftmax(dim=1))\n",
    "    criterion = nn.NLLLoss()\n",
    "    optimizer = optim.SGD(model.parameters(), lr=0.01)\n",
    "    \n",
    "    for e in range(epochs):\n",
    "        running_loss = 0\n",
    "        for images, labels in trainloader:\n",
    "            images = images.view(images.shape[0], -1)\n",
    "            \n",
    "            # training\n",
    "            optimizer.zero_grad()\n",
    "            # 前向计算loss\n",
    "            output = model.forward(images)\n",
    "            loss = criterion(output, labels)\n",
    "            # 反向传播\n",
    "            loss.backward()\n",
    "            # 更新权重\n",
    "            optimizer.step()\n",
    "            running_loss += loss.item()\n",
    "            # print(f\"===> running loss: {running_loss}\")\n",
    "        else:\n",
    "            print(f\"train loss: {running_loss/len(trainloader)}\")\n",
    "            \n",
    "    return model            "
   ]
  },
  {
   "cell_type": "code",
   "execution_count": 93,
   "metadata": {},
   "outputs": [],
   "source": [
    "transform = transforms.ToTensor()\n",
    "\n",
    "trainset = datasets.MNIST('MNIST_data/', download=True, train=True, transform=transform)\n",
    "trainloader = torch.utils.data.DataLoader(trainset, batch_size=64, shuffle=True)\n",
    "\n",
    "testset = datasets.MNIST('MNIST_data/', train=False, download=True, transform=transform)\n",
    "testloader = torch.utils.data.DataLoader(testset, batch_size=64, shuffle=False)"
   ]
  },
  {
   "cell_type": "code",
   "execution_count": 104,
   "metadata": {},
   "outputs": [
    {
     "name": "stdout",
     "output_type": "stream",
     "text": [
      "train loss: 1.6545664177520443\n",
      "train loss: 0.5446760411392143\n",
      "train loss: 0.3949938140698333\n",
      "train loss: 0.342950508721284\n",
      "train loss: 0.3121384655885986\n"
     ]
    }
   ],
   "source": [
    "model = train(trainloader)"
   ]
  },
  {
   "cell_type": "code",
   "execution_count": 110,
   "metadata": {},
   "outputs": [],
   "source": [
    "def predict(model, image):\n",
    "    image = image.view(1, -1)\n",
    "    with torch.no_grad():\n",
    "        logits = model.forward(image)\n",
    "        \n",
    "    ps = F.softmax(logits, dim=1)\n",
    "    return ps"
   ]
  },
  {
   "cell_type": "code",
   "execution_count": 115,
   "metadata": {},
   "outputs": [
    {
     "data": {
      "text/plain": [
       "<Figure size 432x288 with 0 Axes>"
      ]
     },
     "metadata": {},
     "output_type": "display_data"
    }
   ],
   "source": [
    "import matplotlib.pyplot as plt\n",
    "import numpy as np\n",
    "\n",
    "def view_classify(img, ps, version=\"MNIST\"):\n",
    "    ''' Function for viewing an image and it's predicted classes.\n",
    "    '''\n",
    "    ps = ps.data.numpy().squeeze()\n",
    "\n",
    "    fig, (ax1, ax2) = plt.subplots(figsize=(6,9), ncols=2)\n",
    "    ax1.imshow(img.resize_(1, 28, 28).numpy().squeeze())\n",
    "    ax1.axis('off')\n",
    "    ax2.barh(np.arange(10), ps)\n",
    "    ax2.set_aspect(0.1)\n",
    "    ax2.set_yticks(np.arange(10))\n",
    "    if version == \"MNIST\":\n",
    "        ax2.set_yticklabels(np.arange(10))\n",
    "    elif version == \"Fashion\":\n",
    "        ax2.set_yticklabels(['T-shirt/top',\n",
    "                            'Trouser',\n",
    "                            'Pullover',\n",
    "                            'Dress',\n",
    "                            'Coat',\n",
    "                            'Sandal',\n",
    "                            'Shirt',\n",
    "                            'Sneaker',\n",
    "                            'Bag',\n",
    "                            'Ankle Boot'], size='small');\n",
    "    ax2.set_title('Class Probability')\n",
    "    ax2.set_xlim(0, 1.1)\n",
    "\n",
    "plt.tight_layout()"
   ]
  },
  {
   "cell_type": "code",
   "execution_count": 118,
   "metadata": {},
   "outputs": [
    {
     "data": {
      "image/png": "[encoded data removed]",
      "text/plain": [
       "<Figure size 432x648 with 2 Axes>"
      ]
     },
     "metadata": {
      "needs_background": "light"
     },
     "output_type": "display_data"
    },
    {
     "data": {
      "image/png": "[encoded data removed]",
      "text/plain": [
       "<Figure size 432x648 with 2 Axes>"
      ]
     },
     "metadata": {
      "needs_background": "light"
     },
     "output_type": "display_data"
    },
    {
     "data": {
      "image/png": "[encoded data removed]",
      "text/plain": [
       "<Figure size 432x648 with 2 Axes>"
      ]
     },
     "metadata": {
      "needs_background": "light"
     },
     "output_type": "display_data"
    },
    {
     "data": {
      "image/png": "[encoded data removed]",
      "text/plain": [
       "<Figure size 432x648 with 2 Axes>"
      ]
     },
     "metadata": {
      "needs_background": "light"
     },
     "output_type": "display_data"
    },
    {
     "data": {
      "image/png": "[encoded data removed]",
      "text/plain": [
       "<Figure size 432x648 with 2 Axes>"
      ]
     },
     "metadata": {
      "needs_background": "light"
     },
     "output_type": "display_data"
    }
   ],
   "source": [
    "%matplotlib inline\n",
    "\n",
    "images, labels = next(iter(testloader))\n",
    "for i in range(5):\n",
    "    ps = predict(model, images[i])\n",
    "    view_classify(images[i].view(1, 28, 28), ps)"
   ]
  },
  {
   "cell_type": "code",
   "execution_count": 112,
   "metadata": {},
   "outputs": [
    {
     "name": "stdout",
     "output_type": "stream",
     "text": [
      "Help on package helper:\n",
      "\n",
      "NAME\n",
      "    helper\n",
      "\n",
      "DESCRIPTION\n",
      "    ....  ......        ....  .. .                  ....         .\n",
      "    .... .......          .   ....                           ....       .        ..\n",
      "    ............ . .....   .   ...                                      .       .\n",
      "    ............   . ...      .....  .  . . . .. .  .     ..  .. ....      ..    . .\n",
      "     ............. . ...   .............................  ... ......................\n",
      "    ................ ..    . ,?.ZD++I:  ............................................\n",
      "    ... ............ ...    , I7,,,,I7?,............................................\n",
      "      ......................,O?7,..+Z+$=~...........................................\n",
      "      .....................:D$::~,,=..N~I~. ........................................\n",
      "    . .....................=O~.I~:?....I~?:.........................................\n",
      "       ...................:7D.7~:~+,,,~.O+?.........................................\n",
      "    . ....................=ZZ~8:::~=:,:I~7I:........................................\n",
      "         .................~O7=$:::::.,.~7?=7,.......................................\n",
      "      ...................,=8=?+.:~::.,.,?,7?=.......................................\n",
      "    . ...................~7D=$?.:~:,.,,:,,.I?.......................................\n",
      "    .....................=+Z=I=.:~,,.,:,,?.Z?=.... .  .   .     .   ..... .    . . .\n",
      "    ....................~,7O+7?,:=,.,,::.I.I?:...  . .    ...          ....\n",
      "    .....................,?8?=?:~==?$+~~:$I8DOZ$?=:::,. .... .     .      .        .\n",
      "    .................. :..+87?7?$$$8NNNO=~:,=?::=I7Z8DZ:.:,.......... . . ..   .\n",
      "    ....................=.+8?NO$8$?7Z$I~............. . ?+$=.  ........ . ..  ..\n",
      "    ..................:.788NDNNO=...................... .+$8.~.. ........ .\n",
      "    ............ ...,,ZIMDO~,.............................O=... .     . . .    .\n",
      "    ...............$$ODZ~,.... ..... ....... ....  .....: 78Z....       . .\n",
      "    ...........,.887M8=.............. ..................:.=~M.:........ ..... ....\n",
      "    ............Z7ZO+............ ...................... ~.?NI:,..... . . .    .  ..\n",
      "    ...........I,?:::.,......   ....  .    .... ... .......?7M =.... ........  .\n",
      "    ...........,$:+:::~ .....   ..... .... . .. ..........:,,D=+.......... .....\n",
      "    ............7?+,:+~.......        .         ....... ....,OD~~. ....   .  ..... .\n",
      "    ............77=,:++,......  .   . . .  .  . . .........,NIZ.?.....  . .  ... ..\n",
      "    ............$$+~:~~=....... ..   .......  . . ..........O=87+..........      ...\n",
      "    ............D$==,~:~.... .....  . ...... .... ...... ...~$NO:.. .........   ...\n",
      "    ............D?+::~~~.......  .    . . ..    .  .... ....,88Z7,. ............ . .\n",
      "    ............Z7+~=+~~:...... ...   .. ...  . .  ...  ....~$I8$=..... . .... ... .\n",
      "    ............777?=+~++...  ....  . . .     . . ..... .   .?~OZ?.... .. ........\n",
      "    ......... ..?ID7~===? .................................. ~ZZ$$= .....  .........\n",
      "    ............:I8?::~~?...      ..........    .  ..........:ND$N::...........  . .\n",
      "    .............ID+=~=:~............................  ..... .?ZO$:+. . ..........\n",
      "    .............I8~I+,=:,........    . .. .    .   ......,I7=?$8?$I............ . .\n",
      "    .............IZ=$+,=,:........    . ....    .   .....ODDMI+O8IN?.. ......  . .\n",
      "    ............ $Z?Z=:~:=.~I....... ........ ......... ~MI..8?DZ7D=:. .. ........\n",
      "    .............Z$=Z+,:,OD.?M....   .... ........  .....D,,$N+$D7D+=....      . .\n",
      "    .............7+=Z=~=ID...N$  ........  . . .. . .... ,NMN=,=DIOI~,...  ..  . . .\n",
      "    .............~=?Z===ZM=.?Z7.........   .......  .....,:,,..,$D78~~.... ..  . .\n",
      "    .............,=OI~~==MNMM,. ....... . . . .................::MZD=.... ..........\n",
      "    .............,ZM~?~=~77= .. ....  . .       .. ........... :.NZ8+...... .... . .\n",
      "    ............ :DM~I:+~Z...... ..   ..      . ...... ........:.MZDI :... ... . . .\n",
      "    .............~?8?7,==$......... . .        .. ..... .   . .,:DDO$.,. ....... . .\n",
      "    .............~,I$$:=:I,,.. ............ .............  ....,~ZN7$..~........ . .\n",
      "    .............~ 7Z$:~,?..          . ....   ........ .   ...,:+MIZ=.,. ...... . .\n",
      "    .............,.~$$:~~+.. . ........................ .... ....IM?8:.......... . .\n",
      "    .............: +Z+~=~=:........ . . .  .  ......... .  ......?MIN:  ........ . .\n",
      "    .... .........,78+:+=~,........  ....     ... ..... . .......7NI8,..~..........\n",
      "    ......... ..  :7$I?===:....................  ..    .... .....ZD$N...:...........\n",
      "    ............. =ZZ7??+,, ... ..    .    ..............   .....7Z8D............. .\n",
      "    ..............=$Z8$I?~:.......... ...........................=IN8. . :..........\n",
      "    ...............?Z87??=~... .... . .    ...........  .  ......,$M8....,..........\n",
      "    ...............?OO??+~=......... .......... .. ..   .  ......:ZNO,..............\n",
      "    ...............?$7I=I,=................     .. ..............:ZN8........ .....\n",
      "    ........... ...+$~I??:?.................  . .  .... . .......:7M8.....,.... ....\n",
      "    ...............,?:7??:I... .........        . ..... .  ......,$MD............. .\n",
      "    ...............,+~Z$=,I......... ........................ .. .$MD...............\n",
      "    ...............,7+8$=+?...... ... .    .... .  .... .    .....ZMD,,... ........\n",
      "    ................$~OO~?I................. .......... ..........OMO...............\n",
      "    ................?=78=+7.......  .....  ....... .... . .......~ZMZ,..............\n",
      "    ............... =~IZ+I?.... ... . ...  ..........      ......~OM7............. .\n",
      "     ...............:++D7?7,....... ...... ..........      ......~NMI......... . ...\n",
      "    ................,==N7+?:... ....... .. ............ . . .....+NM+..............\n",
      "    .... ............=~N$:?~. ..  ...... ..... ..... ............+MM=............. .\n",
      "    .................++M7?+~......... .. ...    .. ...... .......=MM:. .............\n",
      "    .................I+M7=I~............ ............ ...   .... +MM:...............\n",
      "    .................7IN$+7=,....... .......  ............ ......$MM,........... . .\n",
      "    ................ 7=NI++=,....... .....    ............ ......INN,...........\n",
      "    .................7=D7~~=,... ....... ...    . . ............ +DO,............. .\n",
      "    .................==D7~~+......  . .  .. ... . ....... ......,?MO.. ...... ......\n",
      "    .............. ..:+8?+=~,. ......     .  ......... ..   .....OM7,,.,.....   ....\n",
      "    .............. ...?8?+~~=. ........  ......,~?$OO8OOOOZ$I77IIMMDD$?O$=:.. ......\n",
      "    ..................?87+:~~...........~$$??$ZDNN8ZDND8NDODZ7Z$7ZZI$$ZZZ~...... . .\n",
      "    ..................?O?+,:~.. .. ~OO+7$888877?~,..... .. .... .:....=+7:...... . .\n",
      "    ..................?O++,~=...78+~$8D$=,,............... .......... I$$,. ....\n",
      "    ..................=8+=:~~O$I$ZZ,................. .... ..........~O7:....... ..\n",
      "    ..................,$:=Z$O=~7,.................................. ,:87+... .......\n",
      "    ...................8II:?+?... ...................................+8+. ... .. . .\n",
      "    ...................Z7~+=,?:..........  ................  .......:Z$,..... .. .\n",
      "    ................. ..$=Z?:~+~,... .......... ....................Z8.~..... .. .\n",
      "    .....................~:$7,?~,~ ,...................... .. .....$O=~...  .  .\n",
      "    .................... ..?N+~=:+.+, . .. .... .........  .......?$~=... ... .. .\n",
      "    ...................... .=MZI=:=:~==, .....  ........ ......~+Z?=,. ...... .. .\n",
      "    .........................:?78I===~.,,,==...............=:~7+D$..................\n",
      "    ...........................??Z8+I7?~...::=.,++~~+==::,~+7IN,......  . ... ..\n",
      "    ............................:,?OOO$ZZI:=:,,,~,,::.:=I8N8=...... .....   .  . .\n",
      "    ............................. ,,D$DIIZZ77Z8OO$DO8N?NMN,.......... ... ... .. .\n",
      "    ...............................~:ON?M7~++II7=I=~=?8O?............ .   . . .. . .\n",
      "    .................................,$MNM8~:.....:INO=...................... .. .\n",
      "    ...................................~MM8MDZ7ZZODD?,................... ..........\n",
      "    ........................  ............DO$?Z$DMN~,........................ .. .\n",
      "    ......................................7N$~7~ZMN,................... .....    .\n",
      "    ........................    ..........IMN=...7D...................... ..  .. . .\n",
      "    ........................    ..........?M= ...7N.................... .   .\n",
      "    ........................    ..........?M,....$$....... .. ....  ......... .. .\n",
      "    ........................  ............IN~IZZ~8I..... .. ................. .. .\n",
      "    .............. ......... ... .........IN,... O=...........  ....................\n",
      "    .......................... ...........$N.....O:....... .... ......... .\n",
      "    ........................    ........ .OO.....7:........ ....... . . . ... .. .\n",
      "    ........................ .  ..........8Z..~=~$: ...............   . . ... .. .\n",
      "    ........................ ............:NZ7,..:I..................  ... ... .. .\n",
      "    ........................  ...........=N7....:I ............. ...  . . ... .. .\n",
      "    ........................ ..... ..... =D~... ~I..................................\n",
      "    ........................     .  .....?N:. ..?$.........  .....  . . . ... .. .\n",
      "    ........................ .. ........ $N:$,..+I..................  . . ... .. .\n",
      "    ........................ ..  ........OM.....?7..................  ... ... .. . .\n",
      "    ........................    .........DN ....7Z........   ........ . . ... .. .\n",
      "    ........................ . ..........MO.....?7................... ..............\n",
      "    ........................  ...........M+...::7I..................  ... ... .. . .\n",
      "    ........................ ..  ....... M$:....$?... ..............  ..  . . .. . .\n",
      "    ................................ ..Z+N   .,:$. ....... ..........   .....      .\n",
      "    ........................  ... . =?:=~8. ...,7,I:........... ........... . .. . .\n",
      "    ...............................?I:~~:$.....I:..,I,....................... .. . .\n",
      "    ......................... ..=:.,?=:?.:DNDN7:.....,~...................... .. .\n",
      "    ..................... ...~=7.,..=+:...............=::,........  ............ .\n",
      "    ......................+$=.......,+.............. ~,..~~~.=......................\n",
      "    ................. .?$+................. .......:::..... :~~== . ..... ..  .. .\n",
      "    ................+87:............. .,.. .....:,~~...... .... ==+~ ......., .. .\n",
      "    .............~$Z+............... ...,:,~~.~=:..,=..............+=I. ..... .... .\n",
      "    ...........+7I,. . ................,:~::~~~~,.....................,~?. .. .. .\n",
      "    ...   ..,+Z$..........................................................?..... .\n",
      "    ......~~$:............................................ .................,:.. .\n",
      "     ..=,,$,................. ...................... ..... ...................,~. .\n",
      "    $I:.:+I=................ .......... ........................................=:\n",
      "     :8=+.,?$:.......................................  .... .............    ..,,= .\n",
      "\n",
      "PACKAGE CONTENTS\n",
      "    config\n",
      "    controller\n",
      "    parser\n",
      "    setupext\n",
      "    unix\n",
      "    windows\n",
      "\n",
      "SUBMODULES\n",
      "    platform\n",
      "\n",
      "FUNCTIONS\n",
      "    start(ctrl)\n",
      "        Start the Helper controller either in the foreground or as a daemon\n",
      "        process.\n",
      "        \n",
      "        :param ctrl helper.Controller: The controller class handle to create and run\n",
      "\n",
      "DATA\n",
      "    version = '2.4.2'\n",
      "\n",
      "VERSION\n",
      "    2.4.2\n",
      "\n",
      "FILE\n",
      "    /opt/conda/lib/python3.6/site-packages/helper/__init__.py\n",
      "\n",
      "\n"
     ]
    }
   ],
   "source": [
    "help(helper)"
   ]
  }
 ],
 "metadata": {
  "kernelspec": {
   "display_name": "Python 3",
   "language": "python",
   "name": "python3"
  },
  "language_info": {
   "codemirror_mode": {
    "name": "ipython",
    "version": 3
   },
   "file_extension": ".py",
   "mimetype": "text/x-python",
   "name": "python",
   "nbconvert_exporter": "python",
   "pygments_lexer": "ipython3",
   "version": "3.6.7"
  }
 },
 "nbformat": 4,
 "nbformat_minor": 2
}
