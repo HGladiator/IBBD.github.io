{
 "cells": [
  {
   "cell_type": "markdown",
   "metadata": {},
   "source": [
    "# 零基础入门Python数据分析：第二课\n",
    "\n",
    "上一次课的主要内容：\n",
    "\n",
    "- Anacnda工具的基础使用\n",
    "- python的基础语法\n",
    "- python的基础数据类型及其运算：整型，浮点型和布尔型\n",
    "\n",
    "这次课主要几个高级的数据类型：\n",
    "\n",
    "- 字符串\n",
    "- 元组\n",
    "- 列表\n",
    "- 集合\n",
    "- 字典"
   ]
  },
  {
   "cell_type": "markdown",
   "metadata": {},
   "source": [
    "## 1. 字符串\n",
    "\n",
    "所谓字符串，可以理解为一段文本，使用单引号或者双引号引起来，在语法上，单引号或者双引号一定是配对使用的，否则会出现语法错误。\n",
    "\n",
    "字符串是由一个一个的字符组成的，每个字符都会对应一个下标，就像房间号一样，从0号开始，一直到字符串的结束。例如字符串\"string\",共有6个字符，其中第0号字符是s，第3号字符是i。"
   ]
  },
  {
   "cell_type": "code",
   "execution_count": null,
   "metadata": {},
   "outputs": [],
   "source": [
    "# 定义两个字符串变量a和b\n",
    "a = \"This is a string 1. \"\n",
    "b = 'This is a string 2. '\n",
    "print(a, b)\n",
    "\n",
    "# 如果文本内需要换行，可以使用换行符：\\n\n",
    "c = \"This is \\n string. \"\n",
    "print(c)\n",
    "\n",
    "# 如果需要定义多行文本的变量，就连着三个引号\n",
    "d = \"\"\"This is a string.\n",
    "This is a string.\"\"\"\n",
    "print(d)\n",
    "\n",
    "d = \"This is a string.\\nThis is a string.\"\n",
    "print(d)"
   ]
  },
  {
   "cell_type": "code",
   "execution_count": null,
   "metadata": {},
   "outputs": [],
   "source": [
    "# 连接: 把a和b两个字符串变量的值连接起来\n",
    "c = a + b\n",
    "print(c)\n",
    "\n",
    "# 连接的时候，可以加入其他字符串，例如在a和b之间增加一个换行符\n",
    "c = a + \"\\n\" + b\n",
    "print(c)\n",
    "\n",
    "# \n",
    "print(\"\\\"\")\n",
    "\n",
    "print(\"“\")"
   ]
  },
  {
   "cell_type": "markdown",
   "metadata": {},
   "source": [
    "### 1.1 字符串长度\n",
    "使用len函数来计算字符串长度"
   ]
  },
  {
   "cell_type": "code",
   "execution_count": null,
   "metadata": {},
   "outputs": [],
   "source": [
    "# 字符串长度: len\n",
    "c = \"This is\"\n",
    "print(len(c))\n",
    "\n",
    "# 换行符看起来是一个反斜杠加一个n，实际上是它两组合在一起成为一个换行符\n",
    "c = \"This is\\n\"\n",
    "print(len(c))\n",
    "\n",
    "c = \"\"\"This is\"\"\"\n",
    "print(len(c))\n",
    "\n",
    "c = \"中国\"\n",
    "print(len(c))\n",
    "\n",
    "c = \"123.\"\n",
    "print(len(c))"
   ]
  },
  {
   "cell_type": "markdown",
   "metadata": {},
   "source": [
    "### 1.2 取子字符串\n",
    "\n",
    "使用字符串的下标，我们可以从字符串的序列中取出我们需要的子字符串。\n",
    "\n",
    "- 取字符串中下标为position的的字符：a[position]。如a[1]表示取a字符串中的下标为1的字符。\n",
    "- 取字符串序列中从开始位置start到结束位置end的子序列：a[start:end]。如a[5:8]表示取a字符串中下标为5，6，7的 三个字符，注意并不包含结束位置。\n",
    "\n",
    "其中position，start，end是下标。"
   ]
  },
  {
   "cell_type": "code",
   "execution_count": null,
   "metadata": {},
   "outputs": [],
   "source": [
    "a = \"This is 中国 123\"\n",
    "\n",
    "# 取a字符串的第3个字符:i\n",
    "# 注意下标是从0开始，第3个字符的下标就是2\n",
    "print(a[2])\n",
    "\n",
    "# 重新赋值一个字符串给变量a\n",
    "a = \"This is a string 1. \"\n",
    "\n",
    "# 取子字符串\n",
    "# 如果要将a字符串中的string提取出来，我们需要知道string在这个字符串中的开始位置\n",
    "# string的开始位置是10，string的长度是6，则结束位置是16\n",
    "print(a[10:16])   # 10是开始位置，16是结束位置（但不包含该位置）\n",
    "print(a[10:])     # 如果结束位置为空，则表示到字符串的最后\n",
    "print(a[:40])     # 如果开始位置为空，则表示从下标0开始"
   ]
  },
  {
   "cell_type": "code",
   "execution_count": null,
   "metadata": {},
   "outputs": [],
   "source": [
    "# 判断某个字符串是否在另一个字符串中\n",
    "a = \"This is a string 1. \"\n",
    "print('string' in a)      # 判断string是否在a字符串中，所以这个会输出True\n",
    "print('string  ' in a)    # 判断string后面加两个空格的序列是否在a字符串中\n",
    "print('String' in a)      # 字符串是区分大小写的\n",
    "\n",
    "b = \"This is a string 2. \"\n",
    "print('string' in a and 'string' in b)"
   ]
  },
  {
   "cell_type": "code",
   "execution_count": null,
   "metadata": {},
   "outputs": [],
   "source": [
    "# 定位\n",
    "# 查找一个字符串在另一个字符串中的位置\n",
    "a = \"This is a string 1. \"\n",
    "c = 'string'\n",
    "print(a.index(c))\n",
    "\n",
    "start = a.index(c)\n",
    "s_len = len(c)\n",
    "print(a[start:start+s_len])\n",
    "\n",
    "print(a.index('aaa'))       # 如果是不存在的字符串则会报错"
   ]
  },
  {
   "cell_type": "code",
   "execution_count": null,
   "metadata": {},
   "outputs": [],
   "source": [
    "# 修改\n",
    "# 注意不能直接修改字符串中的字符的\n",
    "a = \"This is a string 1. \"\n",
    "\n",
    "# a[2] = 's'    # 把下标2的字符修改为s，但是这样是会报错的\n",
    "\n",
    "# 如果一定要这样，则需要这样\n",
    "a = a[:2] + 's' + a[3:]\n",
    "print(a)\n",
    "\n",
    "# 把a字符串中的string替换成“字符串”\n",
    "print(a.replace('string', '字符串'))"
   ]
  },
  {
   "cell_type": "code",
   "execution_count": null,
   "metadata": {},
   "outputs": [],
   "source": [
    "print(type(\"string\"))"
   ]
  },
  {
   "cell_type": "code",
   "execution_count": null,
   "metadata": {},
   "outputs": [],
   "source": [
    "# 查看函数的帮助文档\n",
    "str.index?"
   ]
  },
  {
   "cell_type": "markdown",
   "metadata": {},
   "source": [
    "## 2. 元组\n",
    "\n",
    "字符串其实可以理解成一种特殊的元组，只是字符串的元素是一个一个的字符，而元组的每个元素可以是各种类型。\n",
    "\n",
    "元组的操作和字符串也是非常相似的，同样也不能直接修改或者替换元组的某个元素。"
   ]
  },
  {
   "cell_type": "code",
   "execution_count": null,
   "metadata": {},
   "outputs": [],
   "source": [
    "# 定义\n",
    "a = (1,2,3.,4,True)\n",
    "print(a)\n",
    "b = (a, \"b\", \"abc\")\n",
    "print(b)\n",
    "\n",
    "print(type(b))"
   ]
  },
  {
   "cell_type": "code",
   "execution_count": null,
   "metadata": {},
   "outputs": [],
   "source": [
    "c = a + b\n",
    "print(c)"
   ]
  },
  {
   "cell_type": "code",
   "execution_count": null,
   "metadata": {},
   "outputs": [],
   "source": [
    "len(c)"
   ]
  },
  {
   "cell_type": "code",
   "execution_count": null,
   "metadata": {},
   "outputs": [],
   "source": [
    "c[5]"
   ]
  },
  {
   "cell_type": "code",
   "execution_count": null,
   "metadata": {},
   "outputs": [],
   "source": [
    "c[3:5]"
   ]
  },
  {
   "cell_type": "code",
   "execution_count": null,
   "metadata": {},
   "outputs": [],
   "source": [
    "'abc' in c"
   ]
  },
  {
   "cell_type": "code",
   "execution_count": null,
   "metadata": {},
   "outputs": [],
   "source": [
    "c[2] = 'dsa'"
   ]
  },
  {
   "cell_type": "markdown",
   "metadata": {},
   "source": [
    "## 3. 列表\n",
    "\n",
    "列表和元组类似，但是列表是可以修改的，也就是说，列表在定义之后，还可以往该列表中增加，修改或者删除元素。列表在其他编程语言可能会叫数组。"
   ]
  },
  {
   "cell_type": "code",
   "execution_count": null,
   "metadata": {},
   "outputs": [],
   "source": [
    "# 列表\n",
    "a = [1,2,3,4]\n",
    "print(a)\n",
    "b = [a, \"a\", \"abc\"]\n",
    "print(b)\n",
    "\n",
    "type(b)"
   ]
  },
  {
   "cell_type": "code",
   "execution_count": null,
   "metadata": {},
   "outputs": [],
   "source": [
    "b[1] = 'test'\n",
    "b\n",
    "\n",
    "b[1:3]"
   ]
  },
  {
   "cell_type": "code",
   "execution_count": null,
   "metadata": {},
   "outputs": [],
   "source": [
    "# \n",
    "b.append('hello')\n",
    "b"
   ]
  },
  {
   "cell_type": "code",
   "execution_count": null,
   "metadata": {},
   "outputs": [],
   "source": [
    "b.insert?"
   ]
  },
  {
   "cell_type": "code",
   "execution_count": null,
   "metadata": {},
   "outputs": [],
   "source": [
    "b.insert(0, 'world')\n",
    "b"
   ]
  },
  {
   "cell_type": "code",
   "execution_count": null,
   "metadata": {},
   "outputs": [],
   "source": [
    "b.remove?"
   ]
  },
  {
   "cell_type": "code",
   "execution_count": null,
   "metadata": {},
   "outputs": [],
   "source": [
    "b.remove('test')\n",
    "b"
   ]
  },
  {
   "cell_type": "markdown",
   "metadata": {},
   "source": [
    "## 4. 集合\n",
    "\n",
    "- 集合是一种无序的列表，跟数学中的集合的概念类似，元素在集合中的位置是不重要的。\n",
    "- 集合中不会包含相同的元素，而列表是可以包含相同元素的。\n",
    "- 集合可以进行交集并集的运算。"
   ]
  },
  {
   "cell_type": "code",
   "execution_count": null,
   "metadata": {},
   "outputs": [],
   "source": [
    "# 集合\n",
    "a = {1,2,3,4}\n",
    "print(a)\n",
    "b = {2, 4, 4}\n",
    "print(b)\n",
    "\n",
    "c = {(12, 23)}\n",
    "print(c)\n",
    "\n",
    "type(c)"
   ]
  },
  {
   "cell_type": "code",
   "execution_count": null,
   "metadata": {},
   "outputs": [],
   "source": [
    "2 in b"
   ]
  },
  {
   "cell_type": "code",
   "execution_count": null,
   "metadata": {},
   "outputs": [],
   "source": [
    "b.add('asdb')\n",
    "b"
   ]
  },
  {
   "cell_type": "code",
   "execution_count": null,
   "metadata": {},
   "outputs": [],
   "source": [
    "b.remove('asdb')\n",
    "b"
   ]
  },
  {
   "cell_type": "code",
   "execution_count": null,
   "metadata": {},
   "outputs": [],
   "source": [
    "a.intersection(b)"
   ]
  },
  {
   "cell_type": "code",
   "execution_count": null,
   "metadata": {},
   "outputs": [],
   "source": [
    "a.union(b)"
   ]
  },
  {
   "cell_type": "code",
   "execution_count": null,
   "metadata": {},
   "outputs": [],
   "source": [
    "a-b"
   ]
  },
  {
   "cell_type": "markdown",
   "metadata": {},
   "source": [
    "## 4. 字典\n",
    "\n",
    "字典从某种程度上说，也有点类似列表，只是对于列表来说，其下标必然是顺序的0，1，2，。。。，通过下标就能找到对应的值。但是对于字典，则可以自己定义每个值的下标，例如国家为每个人都分配了一个身份证号，那身份证号就是下标，值就是你自己。或者例如大观园里的各处并不是使用01234这些来编号的，而是使用怡红院，秋爽斋，稻香村等来命名的。\n",
    "\n",
    "虽然理解上可以这么理解，不过他们的操作还是很大区别的。"
   ]
  },
  {
   "cell_type": "code",
   "execution_count": null,
   "metadata": {},
   "outputs": [],
   "source": [
    "# 字典\n",
    "a = {\n",
    "    'a': 1,\n",
    "    'bc': True\n",
    "}\n",
    "print(a)\n",
    "\n",
    "b = {\n",
    "    'a': \"f\",\n",
    "    'bc': 0.3\n",
    "}\n",
    "print(b)"
   ]
  },
  {
   "cell_type": "code",
   "execution_count": null,
   "metadata": {},
   "outputs": [],
   "source": [
    "a['a']"
   ]
  },
  {
   "cell_type": "code",
   "execution_count": null,
   "metadata": {},
   "outputs": [],
   "source": [
    "a['a'] = 'test'\n",
    "a['cd'] = 'hello'\n",
    "a"
   ]
  },
  {
   "cell_type": "code",
   "execution_count": null,
   "metadata": {},
   "outputs": [],
   "source": [
    "print('a' in a)\n",
    "'test' in a"
   ]
  },
  {
   "cell_type": "code",
   "execution_count": null,
   "metadata": {},
   "outputs": [],
   "source": [
    "del a['cd']\n",
    "a"
   ]
  },
  {
   "cell_type": "markdown",
   "metadata": {},
   "source": [
    "## 5. 不同类型之间的组合\n",
    "\n",
    "像元组，列表，集合，字典这些组合类型，他们的值都可以是任何类型的。例如列表的元素可以是元组，也可以是集合字典等，还可以是一个里列表。"
   ]
  },
  {
   "cell_type": "code",
   "execution_count": null,
   "metadata": {},
   "outputs": [],
   "source": []
  }
 ],
 "metadata": {
  "kernelspec": {
   "display_name": "Python 3",
   "language": "python",
   "name": "python3"
  },
  "language_info": {
   "codemirror_mode": {
    "name": "ipython",
    "version": 3
   },
   "file_extension": ".py",
   "mimetype": "text/x-python",
   "name": "python",
   "nbconvert_exporter": "python",
   "pygments_lexer": "ipython3",
   "version": "3.7.3"
  }
 },
 "nbformat": 4,
 "nbformat_minor": 4
}
