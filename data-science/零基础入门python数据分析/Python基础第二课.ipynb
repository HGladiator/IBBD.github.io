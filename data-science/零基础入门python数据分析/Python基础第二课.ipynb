{
 "cells": [
  {
   "cell_type": "markdown",
   "metadata": {},
   "source": [
    "# 零基础入门Python数据分析：第二课\n",
    "\n",
    "上一次课的主要内容：\n",
    "\n",
    "- Anacnda工具的基础使用\n",
    "- python的基础语法\n",
    "- python的基础数据类型及其运算：整型，浮点型和布尔型\n",
    "\n",
    "这次课主要几个高级的数据类型：\n",
    "\n",
    "- 字符串\n",
    "- 元组\n",
    "- 列表\n",
    "- 集合\n",
    "- 字典"
   ]
  },
  {
   "cell_type": "markdown",
   "metadata": {},
   "source": [
    "## 1. 字符串\n",
    "\n",
    "所谓字符串，可以理解为一段文本，使用单引号或者双引号引起来，在语法上，单引号或者双引号一定是配对使用的，否则会出现语法错误。\n",
    "\n",
    "字符串是由一个一个的字符组成的，每个字符都会对应一个下标，就像房间号一样，从0号开始，一直到字符串的结束。例如字符串\"string\",共有6个字符，其中第0号字符是s，第3号字符是i。"
   ]
  },
  {
   "cell_type": "code",
   "execution_count": null,
   "metadata": {},
   "outputs": [],
   "source": [
    "# 定义两个字符串变量a和b\n",
    "a = \"This is a string 1. \"\n",
    "b = 'This is a string 2. '\n",
    "print(a, b)\n",
    "\n",
    "# 如果文本内需要换行，可以使用换行符：\\n\n",
    "c = \"This is \\n string. \"\n",
    "print(c)\n",
    "\n",
    "d = \"This is a string.\\nThis is a string.\"\n",
    "print(d)\n",
    "\n",
    "# 如果需要定义多行文本的变量，也可以使用三个引号的形式进行定义，如下：\n",
    "# 这种形式就不需要换行符\n",
    "d = \"\"\"This is a string.\n",
    "This is a string.\"\"\"\n",
    "print(d)"
   ]
  },
  {
   "cell_type": "code",
   "execution_count": null,
   "metadata": {},
   "outputs": [],
   "source": [
    "# 连接: 把a和b两个字符串变量的值连接起来\n",
    "c = a + b\n",
    "print(c)\n",
    "\n",
    "# 连接的时候，可以加入其他字符串，例如在a和b之间增加一个换行符\n",
    "c = a + \"\\n\" + b\n",
    "print(c)\n",
    "\n",
    "# 因为在定义字符串时，引号是需要配对使用的，如果字符串中包含有相同的引号，这时就需要做些变动。\n",
    "# 例如如果要输出一个双引号的字符串\n",
    "# 第一种方式：外部使用单引号\n",
    "print('\"')\n",
    "# 第二种方式：外部还是使用双引号，但是字符串里面的双引号前面加上一个反斜杠，这样就不会产生语法错误\n",
    "print(\"\\\"\")"
   ]
  },
  {
   "cell_type": "markdown",
   "metadata": {},
   "source": [
    "### 1.1 字符串长度\n",
    "\n",
    "使用len函数来计算字符串包含的字符的数量"
   ]
  },
  {
   "cell_type": "code",
   "execution_count": null,
   "metadata": {},
   "outputs": [],
   "source": [
    "# 字符串长度: len\n",
    "c = \"This is\"\n",
    "print(len(c))\n",
    "\n",
    "# 换行符看起来是一个反斜杠加一个n，实际上是它两组合在一起成为一个换行符\n",
    "c = \"This is\\n\"\n",
    "print(len(c))\n",
    "\n",
    "c = \"\"\"This is\"\"\"\n",
    "print(len(c))\n",
    "\n",
    "c = \"中国\"\n",
    "print(len(c))   #  一个汉字也是一个字符\n",
    "\n",
    "c = \"123.\"\n",
    "print(len(c))"
   ]
  },
  {
   "cell_type": "markdown",
   "metadata": {},
   "source": [
    "### 1.2 取子字符串\n",
    "\n",
    "使用字符串的下标，我们可以从字符串的序列中取出我们需要的子字符串。\n",
    "\n",
    "- 取字符串中下标为position的的字符：a[position]。如a[1]表示取a字符串中的下标为1的字符。\n",
    "- 取字符串序列中从开始位置start到结束位置end的子序列：a[start:end]。如a[5:8]表示取a字符串中下标为5，6，7的 三个字符，注意并不包含结束位置。\n",
    "\n",
    "其中position，start，end是下标。"
   ]
  },
  {
   "cell_type": "code",
   "execution_count": null,
   "metadata": {},
   "outputs": [],
   "source": [
    "a = \"This is 中国 123\"\n",
    "\n",
    "# 取a字符串的第3个字符:i\n",
    "# 注意下标是从0开始，第3个字符的下标就是2\n",
    "print(a[2])\n",
    "\n",
    "# 重新赋值一个字符串给变量a\n",
    "a = \"This is a string 1. \"\n",
    "\n",
    "# 取子字符串\n",
    "# 如果要将a字符串中的string提取出来，我们需要知道string在这个字符串中的开始位置\n",
    "# string的开始位置是10，string的长度是6，则结束位置是16\n",
    "print(a[10:16])   # 10是开始位置，16是结束位置（但不包含该位置）\n",
    "print(a[10:])     # 如果结束位置为空，则表示到字符串的最后\n",
    "print(a[:40])     # 如果开始位置为空，则表示从下标0开始"
   ]
  },
  {
   "cell_type": "markdown",
   "metadata": {},
   "source": [
    "### 1.3 判断字符串中是否包含某个字符串\n",
    "\n",
    "例如，我们有一篇很长的文章，我们想知道这个文章中是否包含了“中国”这个词，我们就可以使用下面的方式。"
   ]
  },
  {
   "cell_type": "code",
   "execution_count": null,
   "metadata": {},
   "outputs": [],
   "source": [
    "# 判断某个字符串是否在另一个字符串中\n",
    "a = \"This is a string 1. \"\n",
    "print('string' in a)      # 判断string是否在a字符串中，所以这个会输出True\n",
    "print('string  ' in a)    # 判断string后面加两个空格的序列是否在a字符串中\n",
    "print('String' in a)      # 字符串是区分大小写的\n",
    "\n",
    "b = \"This is a string 2. \"\n",
    "print('string' in a and 'string' in b)"
   ]
  },
  {
   "cell_type": "markdown",
   "metadata": {},
   "source": [
    "### 1.4 字符串定位\n",
    "\n",
    "可以快速定位我们关心的信息，出现在了什么位置。"
   ]
  },
  {
   "cell_type": "code",
   "execution_count": null,
   "metadata": {},
   "outputs": [],
   "source": [
    "# 定位\n",
    "# 查找一个字符串在另一个字符串中的位置\n",
    "a = \"This is a string 1. \"\n",
    "c = 'string'\n",
    "print(a.index(c))\n",
    "\n",
    "start = a.index(c)\n",
    "s_len = len(c)\n",
    "print(a[start:start+s_len])\n",
    "\n",
    "# index是字符串的一个内置函数\n",
    "print(a.index('aaa'))       # 如果是不存在的字符串则会报错"
   ]
  },
  {
   "cell_type": "markdown",
   "metadata": {},
   "source": [
    "### 1.5 修改\n",
    "\n",
    "理论上，一个字符串定义好之后，是不能修改的，不过我们还是有一些手段来实现类似的效果，如下："
   ]
  },
  {
   "cell_type": "code",
   "execution_count": null,
   "metadata": {},
   "outputs": [],
   "source": [
    "# 修改\n",
    "# 注意不能直接修改字符串中的字符的\n",
    "a = \"This is a string 1. \"\n",
    "\n",
    "# a[2] = 's'    # 把下标2的字符修改为s，但是这样是会报错的\n",
    "\n",
    "# 如果一定要这样，则需要这样\n",
    "a = a[:2] + 's' + a[3:]\n",
    "print(a)\n",
    "\n",
    "# 把a字符串中的string替换成“字符串”\n",
    "# replace是字符串的一个内置函数\n",
    "print(a.replace('string', '字符串'))"
   ]
  },
  {
   "cell_type": "code",
   "execution_count": null,
   "metadata": {},
   "outputs": [],
   "source": [
    "a = \"This is a string 1. \"\n",
    "# 我们重新赋值一个值给变量a，是不是就是是修改呢？如下：\n",
    "a = \"This is a string 2. \"    # 其实这并不是修改，而是重新赋值了一个新的字符串变量，和前面的变量a已经没有了任何关系"
   ]
  },
  {
   "cell_type": "markdown",
   "metadata": {},
   "source": [
    "## 2. 元组\n",
    "\n",
    "字符串其实可以理解成一种特殊的元组，只是字符串的元素是一个一个的字符，而元组的每个元素可以是各种类型。\n",
    "\n",
    "元组的操作和字符串也是非常相似的，同样也不能直接修改或者替换元组的某个元素。"
   ]
  },
  {
   "cell_type": "markdown",
   "metadata": {},
   "source": [
    "### 2.1 元组基础"
   ]
  },
  {
   "cell_type": "code",
   "execution_count": null,
   "metadata": {},
   "outputs": [],
   "source": [
    "# 定义\n",
    "a = (1,2,3.,4,True)\n",
    "print(a)\n",
    "\n",
    "b = (a, \"b\", \"abc\")\n",
    "print(b)"
   ]
  },
  {
   "cell_type": "code",
   "execution_count": null,
   "metadata": {},
   "outputs": [],
   "source": [
    "c = a + b\n",
    "print(c)"
   ]
  },
  {
   "cell_type": "code",
   "execution_count": null,
   "metadata": {},
   "outputs": [],
   "source": [
    "len(c)"
   ]
  },
  {
   "cell_type": "code",
   "execution_count": null,
   "metadata": {},
   "outputs": [],
   "source": [
    "c[5]"
   ]
  },
  {
   "cell_type": "code",
   "execution_count": null,
   "metadata": {},
   "outputs": [],
   "source": [
    "c[3:5]"
   ]
  },
  {
   "cell_type": "code",
   "execution_count": null,
   "metadata": {},
   "outputs": [],
   "source": [
    "'abc' in c"
   ]
  },
  {
   "cell_type": "code",
   "execution_count": null,
   "metadata": {},
   "outputs": [],
   "source": [
    "c.index('abc')"
   ]
  },
  {
   "cell_type": "code",
   "execution_count": null,
   "metadata": {},
   "outputs": [],
   "source": [
    "# 和字符串类似，元组在定义好之后，也是不能直接修改的\n",
    "c[2] = 'dsa'"
   ]
  },
  {
   "cell_type": "markdown",
   "metadata": {},
   "source": [
    "### 2.2 常用函数\n",
    "\n",
    "除了上面用到的len，index，元组还有一些常用到的函数：\n",
    "\n",
    "- min: 求列表的最小值\n",
    "- max: 求列表的最大值\n",
    "\n",
    "当然，求最大最小值的函数同样适用于下面的列表和集合。"
   ]
  },
  {
   "cell_type": "code",
   "execution_count": null,
   "metadata": {},
   "outputs": [],
   "source": [
    "a = (3, 2, 1, 5, 4)\n",
    "print(min(a))\n",
    "print(max(a))"
   ]
  },
  {
   "cell_type": "markdown",
   "metadata": {},
   "source": [
    "## 3. 列表\n",
    "\n",
    "列表和元组类似，但是列表是可以修改的，也就是说，列表在定义之后，还可以往该列表中增加，修改或者删除元素。列表在其他编程语言可能会叫数组。\n",
    "\n",
    "### 3.2 列表基础\n",
    "\n",
    "这部分和元组类似"
   ]
  },
  {
   "cell_type": "code",
   "execution_count": null,
   "metadata": {},
   "outputs": [],
   "source": [
    "# 列表\n",
    "a = [1,2,3,4]\n",
    "print(a)\n",
    "\n",
    "# 列表的元素可以是任何类型\n",
    "# 可以是基础类型，可以是字符串，也可以是元组，甚至是另一个列表\n",
    "b = [a, (2, 3, 5), \"abc\"]\n",
    "print(b)"
   ]
  },
  {
   "cell_type": "code",
   "execution_count": null,
   "metadata": {},
   "outputs": [],
   "source": [
    "print(a[2])\n",
    "print(b[1:3])\n",
    "print(2 in a)\n",
    "print(a.index(2))"
   ]
  },
  {
   "cell_type": "markdown",
   "metadata": {},
   "source": [
    "### 3.2 列表值的修改\n",
    "\n",
    "列表和元组最大的区别，就是列表的值是可以直接进行修改的。\n",
    "\n",
    "列表的常用函数：\n",
    "\n",
    "- append：在列表的尾部加入一个元素\n",
    "- insert：在列表的某个位置插入一个元素\n",
    "- remove：从列表里移除某个值\n",
    "- min：最小值\n",
    "- max：最大值"
   ]
  },
  {
   "cell_type": "code",
   "execution_count": null,
   "metadata": {},
   "outputs": [],
   "source": [
    "b[1] = 'test'\n",
    "print(b)"
   ]
  },
  {
   "cell_type": "code",
   "execution_count": null,
   "metadata": {},
   "outputs": [],
   "source": [
    "# \n",
    "b.append('hello')\n",
    "b"
   ]
  },
  {
   "cell_type": "code",
   "execution_count": null,
   "metadata": {},
   "outputs": [],
   "source": [
    "b.insert?"
   ]
  },
  {
   "cell_type": "code",
   "execution_count": null,
   "metadata": {},
   "outputs": [],
   "source": [
    "b.insert(0, 'world')\n",
    "b"
   ]
  },
  {
   "cell_type": "code",
   "execution_count": null,
   "metadata": {},
   "outputs": [],
   "source": [
    "b.remove?"
   ]
  },
  {
   "cell_type": "code",
   "execution_count": null,
   "metadata": {},
   "outputs": [],
   "source": [
    "b.remove('test')\n",
    "b"
   ]
  },
  {
   "cell_type": "markdown",
   "metadata": {},
   "source": [
    "## 4. 集合\n",
    "\n",
    "- 集合是一种无序的列表，跟数学中的集合的概念类似，元素在集合中的位置是不重要的。\n",
    "- 集合中不会包含相同的元素，而列表是可以包含相同元素的。\n",
    "- 集合可以进行交集并集的运算。\n",
    "- 集合的元素的值只能是不可变的类型，例如整型，浮点型，布尔型，字符串，元组等，这些都是可以的，但是它的元素不能是列表等。\n",
    "\n",
    "### 4.1 集合基础"
   ]
  },
  {
   "cell_type": "code",
   "execution_count": null,
   "metadata": {},
   "outputs": [],
   "source": [
    "# 集合\n",
    "a = {1,2,3,4}\n",
    "print(a)\n",
    "b = {2, 4, 4}\n",
    "print(b)\n",
    "\n",
    "c = {(12, 23)}\n",
    "print(c)\n",
    "\n",
    "# 注意：集合的元素值的类型只能是不可变类型\n",
    "c = {(12, 23), [1, 2]}\n",
    "print(c)"
   ]
  },
  {
   "cell_type": "code",
   "execution_count": null,
   "metadata": {},
   "outputs": [],
   "source": [
    "2 in b"
   ]
  },
  {
   "cell_type": "markdown",
   "metadata": {},
   "source": [
    "### 4.2 集合常用函数\n",
    "\n",
    "- add：给集合增加一个元素，重复添加一个值时，会自动进行去重\n",
    "- remove：将某个值从集合里移除\n",
    "- intersection：求两个集合的交集\n",
    "- union：求两个集合的并集"
   ]
  },
  {
   "cell_type": "code",
   "execution_count": null,
   "metadata": {},
   "outputs": [],
   "source": [
    "b.add('asdb')\n",
    "b"
   ]
  },
  {
   "cell_type": "code",
   "execution_count": null,
   "metadata": {},
   "outputs": [],
   "source": [
    "b.remove('asdb')\n",
    "b"
   ]
  },
  {
   "cell_type": "code",
   "execution_count": null,
   "metadata": {},
   "outputs": [],
   "source": [
    "a.intersection(b)"
   ]
  },
  {
   "cell_type": "code",
   "execution_count": null,
   "metadata": {},
   "outputs": [],
   "source": [
    "a.union(b)"
   ]
  },
  {
   "cell_type": "code",
   "execution_count": null,
   "metadata": {},
   "outputs": [],
   "source": [
    "# 求集合的差集\n",
    "a-b"
   ]
  },
  {
   "cell_type": "markdown",
   "metadata": {},
   "source": [
    "## 4. 字典\n",
    "\n",
    "字典从某种程度上说，也有点类似列表，只是对于列表来说，其下标必然是顺序的0，1，2，。。。，通过下标就能找到对应的值。但是对于字典，则可以自己定义每个值的下标，例如国家为每个人都分配了一个身份证号，那身份证号就是下标，值就是你自己。或者例如大观园里的各处并不是使用01234这些来编号的，而是使用怡红院，秋爽斋，稻香村等来命名的。\n",
    "\n",
    "下标通常也可以成为键。\n",
    "\n",
    "虽然理解上可以这么理解，不过他们的操作还是很大区别的。\n",
    "\n",
    "### 4.1 字典基础"
   ]
  },
  {
   "cell_type": "code",
   "execution_count": null,
   "metadata": {},
   "outputs": [],
   "source": [
    "# 定义字典变量a\n",
    "# 该字典有两个元素，其下标分别是abc和10\n",
    "a = {\n",
    "    'abc': 1,\n",
    "    10: True\n",
    "}\n",
    "print(a)\n",
    "\n",
    "# 定义字典变量b\n",
    "# 该字典定义了4个元素，其下标分别是：bc, True, 232.1, (1,2)\n",
    "# 字典的下标可以是任何不可变类型的值\n",
    "b = {\n",
    "    'bc': \"f\",\n",
    "    True: 0.3,\n",
    "    232.1: 423,\n",
    "    (1, 2): False\n",
    "}\n",
    "print(b)"
   ]
  },
  {
   "cell_type": "code",
   "execution_count": null,
   "metadata": {},
   "outputs": [],
   "source": [
    "# 取字典的某个值\n",
    "a['a']"
   ]
  },
  {
   "cell_type": "code",
   "execution_count": null,
   "metadata": {},
   "outputs": [],
   "source": [
    "# 注意：使用in操作符时，判断的是字典是否包含某个键（即下标）\n",
    "print('a' in a)     # True\n",
    "'test' in a             # False"
   ]
  },
  {
   "cell_type": "markdown",
   "metadata": {},
   "source": [
    "### 4.2 字典元素的赋值与删除\n",
    "\n",
    "直接通过下标就能修改对应元素的值"
   ]
  },
  {
   "cell_type": "code",
   "execution_count": null,
   "metadata": {},
   "outputs": [],
   "source": [
    "a['a'] = 'test'\n",
    "a['cd'] = 'hello'\n",
    "a"
   ]
  },
  {
   "cell_type": "code",
   "execution_count": null,
   "metadata": {},
   "outputs": [],
   "source": [
    "# 删除字典中的某个元素，需要这样的操作\n",
    "del a['cd']\n",
    "a"
   ]
  },
  {
   "cell_type": "markdown",
   "metadata": {},
   "source": [
    "### 4.3 注意键的类型\n",
    "\n",
    "例如，字符串的10和整数的10是不一样的。"
   ]
  },
  {
   "cell_type": "code",
   "execution_count": null,
   "metadata": {},
   "outputs": [],
   "source": [
    "a = {\n",
    "    '8': 1,\n",
    "    10: True\n",
    "}\n",
    "\n",
    "# 例如需要获取8对应的值，如下：\n",
    "print(a['8'])\n",
    "# 但是如果如下取值，则会报错：\n",
    "print(a[8])        # 整数8的键在a字典中并不存在"
   ]
  },
  {
   "cell_type": "markdown",
   "metadata": {},
   "source": [
    "## 5. 不同类型之间的组合\n",
    "\n",
    "像元组，列表，集合，字典这些组合类型，他们的值都可以是任何类型的。例如列表的元素可以是元组，也可以是集合字典等，还可以是一个里列表。"
   ]
  },
  {
   "cell_type": "code",
   "execution_count": null,
   "metadata": {},
   "outputs": [],
   "source": []
  }
 ],
 "metadata": {
  "kernelspec": {
   "display_name": "Python 3",
   "language": "python",
   "name": "python3"
  },
  "language_info": {
   "codemirror_mode": {
    "name": "ipython",
    "version": 3
   },
   "file_extension": ".py",
   "mimetype": "text/x-python",
   "name": "python",
   "nbconvert_exporter": "python",
   "pygments_lexer": "ipython3",
   "version": "3.7.3"
  }
 },
 "nbformat": 4,
 "nbformat_minor": 4
}
