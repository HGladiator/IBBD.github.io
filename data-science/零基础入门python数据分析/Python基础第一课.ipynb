{
 "cells": [
  {
   "cell_type": "markdown",
   "metadata": {},
   "source": [
    "# 零基础入门Python数据分析：第一课"
   ]
  },
  {
   "cell_type": "markdown",
   "metadata": {},
   "source": [
    "## 01 Python环境安装与基础使用：Anaconda\n",
    "\n",
    "Anaconda是专注于数据分析的Python发行版本，包含了conda、Python等190多个科学包及其依赖项，俗称“Notebook”。\n",
    "\n",
    "- 下载安装Anaconda：https://mirrors.tuna.tsinghua.edu.cn/help/anaconda/ ，找到最新的适合自己的最新版本，如64位windows：https://mirrors.tuna.tsinghua.edu.cn/anaconda/archive/Anaconda3-2020.02-Windows-x86_64.exe （如果是32位系统，需要下载对应的版本）\n",
    "- 启动运行\n",
    "- 界面基本介绍\n",
    "- 创建目录与文件\n",
    "- 上传与下载文件\n",
    "- 重命名文件\n",
    "- 移动文件\n",
    "- 删除文件\n",
    "\n",
    "作为分析师，对于该工具不必过于纠结，从使用角度出发即可，作为入门，重点就几点：\n",
    "\n",
    "- 安装与启动\n",
    "- 基础的文件操作\n",
    "\n",
    "至于其他的，其实往往都不是必须的。\n",
    "\n",
    "新建一个Python notebook文件，其后缀名是.ipynb，对于notebook文件和我们平时在电脑上看到的有点不一样，这个文件会有一个“运行”的状态，点击打开之后，文件列表里小图标就会变绿，这就表示文件已经处于运行状态。选中文件之后，点击“shutdown”会停止运行，停止运行之后，才能进行下载等操作。"
   ]
  },
  {
   "cell_type": "markdown",
   "metadata": {},
   "source": [
    "## 02 Python基础语法\n",
    "\n",
    "基础教程：https://www.runoob.com/python/python-tutorial.html"
   ]
  },
  {
   "cell_type": "code",
   "execution_count": null,
   "metadata": {
    "scrolled": false
   },
   "outputs": [],
   "source": [
    "# 井号开头的行是注释\n",
    "# 最简单的应用\n",
    "# print是python的一个语句，用来打印一个或者多个值\n",
    "print(\"Hello, World!\")\n",
    "print(\"你好，世界!\")"
   ]
  },
  {
   "cell_type": "code",
   "execution_count": null,
   "metadata": {},
   "outputs": [],
   "source": [
    "# notebook的特殊用法\n",
    "\"Hello World!\"\n",
    "\"你好，世界!\""
   ]
  },
  {
   "cell_type": "markdown",
   "metadata": {},
   "source": [
    "### 02.01 Anaconda编辑界面的基础用法\n",
    "\n",
    "- 菜单栏\n",
    "- 工具栏\n",
    "\n",
    "这个界面时非常常用的，熟练使用非常有必要"
   ]
  },
  {
   "cell_type": "markdown",
   "metadata": {},
   "source": [
    "## 03 基础变量与赋值\n",
    "\n",
    "我们所说的变量，由变量名和值组成，变量名就像一个人的名字，而值就相当于那个人本身，当然那个人可以叫张三，也可以叫李四，但是都是指同一个人。我们给那个人起名叫张三的过程，放到编程中就叫赋值，即用一个变量名来代表某个值。\n",
    "\n",
    "- int（整型）\n",
    "- float（浮点型）\n",
    "- bool（布尔值）\n",
    "- str（字符串）\n",
    "- list（列表）\n",
    "- tuple（元组）\n",
    "- set（集合）\n",
    "- dict（字典）\n",
    "\n",
    "这次课只讲前面三种基础的类型。"
   ]
  },
  {
   "cell_type": "markdown",
   "metadata": {},
   "source": [
    "### 03.01 整型与浮点型"
   ]
  },
  {
   "cell_type": "code",
   "execution_count": null,
   "metadata": {},
   "outputs": [],
   "source": [
    "# 定义\n",
    "# 等号是一个赋值符号，左边的是变量名，后边的是值\n",
    "a = 1\n",
    "print(a)\n",
    "b = 1.2\n",
    "print(b)"
   ]
  },
  {
   "cell_type": "code",
   "execution_count": null,
   "metadata": {},
   "outputs": [],
   "source": [
    "# 可以同时打印多个值\n",
    "print(a, b)"
   ]
  },
  {
   "cell_type": "code",
   "execution_count": null,
   "metadata": {},
   "outputs": [],
   "source": [
    "# 整型浮点型的四则运算：加减乘除\n",
    "c = a + b\n",
    "print(c)\n",
    "\n",
    "a = 1\n",
    "b = 2\n",
    "c = 3\n",
    "c = (1+2)*3     # 可以使用小括号组合运算的优先级\n",
    "print(c)"
   ]
  },
  {
   "cell_type": "markdown",
   "metadata": {},
   "source": [
    "### 03.02 布尔型"
   ]
  },
  {
   "cell_type": "code",
   "execution_count": null,
   "metadata": {},
   "outputs": [],
   "source": [
    "# 布尔值就真和假两个值：True, False\n",
    "c = True\n",
    "print(c)\n",
    "\n",
    "d = False\n",
    "print(d)"
   ]
  },
  {
   "cell_type": "code",
   "execution_count": null,
   "metadata": {},
   "outputs": [],
   "source": [
    "# 布尔型的基本运算\n",
    "print(c and d)\n",
    "print(c or d)\n",
    "print(not c)\n",
    "\n",
    "# 布尔型运算也可以通过小括号进行组合优先级\n",
    "e = True\n",
    "print(c and (e or d))\n",
    "\n",
    "# 对其他类型做逻辑运算\n",
    "# 非0值为True，0值为False\n",
    "# 注意：通常很少这样使用，强制类型转换很容易写出不好维护的程序\n",
    "a = 1\n",
    "print(a, not a)\n",
    "e = 0\n",
    "print(e, not e)\n",
    "print(a and e)    # 输出的是后面的值(好吧，我也没弄清楚这里为何不进行逻辑运算了)"
   ]
  },
  {
   "cell_type": "code",
   "execution_count": null,
   "metadata": {},
   "outputs": [],
   "source": [
    "# 比较运算符\n",
    "# 比较运算符得到的是布尔值，True或者False\n",
    "print(a, e, a > e)\n",
    "print(a, e, a >= e)\n",
    "print(a, e, a < e)\n",
    "print(a, e, a <= e)\n",
    "print(a, e, a != e)"
   ]
  },
  {
   "cell_type": "code",
   "execution_count": null,
   "metadata": {},
   "outputs": [],
   "source": [
    "a = 1\n",
    "b = 2\n",
    "c = 3\n",
    "\n",
    "# 运算优先级：四则运算优先级高于比较运算符\n",
    "print(a, b, c, a + b < c)\n",
    "print(a, b, c, a < b * c)\n",
    "# 比较符可以连写，这是python比较特有的\n",
    "print(a, b, c, a < b < c)"
   ]
  }
 ],
 "metadata": {
  "kernelspec": {
   "display_name": "Python 3",
   "language": "python",
   "name": "python3"
  },
  "language_info": {
   "codemirror_mode": {
    "name": "ipython",
    "version": 3
   },
   "file_extension": ".py",
   "mimetype": "text/x-python",
   "name": "python",
   "nbconvert_exporter": "python",
   "pygments_lexer": "ipython3",
   "version": "3.7.6"
  }
 },
 "nbformat": 4,
 "nbformat_minor": 2
}
