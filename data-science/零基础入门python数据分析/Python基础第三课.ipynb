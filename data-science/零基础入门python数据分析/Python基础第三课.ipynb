{
 "cells": [
  {
   "cell_type": "markdown",
   "metadata": {},
   "source": [
    "# Python基础第三课：基础结构\n",
    "\n",
    "前面已经讲了notebook的基础使用，python的基础语法及常用的数据结构及其运算，包括:\n",
    "\n",
    "- 整型\n",
    "- 浮点型\n",
    "- 布尔型\n",
    "- 字符串\n",
    "- 元组\n",
    "- 列表\n",
    "- 集合\n",
    "- 字典\n",
    "\n",
    "其中，前五种类型是不可变类型，后面三种是可变类型，而不可变类型才能作为集合的元素或者字典的键。\n",
    "\n",
    "python的语法除了赋值语句，还有一些基础的结构，这是这次课的主体内容，包括：\n",
    "\n",
    "- 打印语句的高级用法\n",
    "- 条件语句\n",
    "- 循环语句\n",
    "- 函数\n",
    "- 包"
   ]
  },
  {
   "cell_type": "markdown",
   "metadata": {},
   "source": [
    "## 1. 打印语句\n",
    "\n",
    "前面已经讲了print的基础用法，这里在讲一些常用的高级用法。"
   ]
  },
  {
   "cell_type": "markdown",
   "metadata": {},
   "source": [
    "## 2. 条件语句\n",
    "\n",
    "条件语句（也称为分支语句，都是一样的意思）通常是这样模式：\n",
    "\n",
    "- 如果什么（条件） ，就做什么\n",
    "- 如果什么（条件），就做什么；否则做什么\n",
    "\n",
    "这是我们组织语言的常用结构，对于的python中：\n",
    "\n",
    "```python\n",
    "# 第一种：\n",
    "if 条件:\n",
    "    do some things ...\n",
    "    \n",
    "# 第二种：\n",
    "if 条件:\n",
    "    do some things ...\n",
    "else:\n",
    "    do other things ...\n",
    "```\n",
    "\n",
    "上面的只是伪代码，并不能实际运行。\n",
    "\n",
    "- 条件：就是布尔值，或者是一个能得到布尔值的运算。条件的后面需要由一个冒号\n",
    "- 动作（do some things）：这是if语句的嵌套子语句，必须通过缩进，通常缩进是4个空格"
   ]
  },
  {
   "cell_type": "markdown",
   "metadata": {},
   "source": [
    "### 2.1 if结构"
   ]
  },
  {
   "cell_type": "code",
   "execution_count": null,
   "metadata": {},
   "outputs": [],
   "source": [
    "# 一个叫张三的人，考试成绩82分，父母是医生\n",
    "name = '张三'\n",
    "score = 82\n",
    "parent = 'doctor'\n",
    "print('加分之后，%s的分数是：%d' % (name, score))\n",
    "\n",
    "# 可以加分的类型\n",
    "point_types = {'doctor'}\n",
    "\n",
    "# 判断是否可以加分\n",
    "if parent in point_types:\n",
    "    score += 10\n",
    "    \n",
    "print('加分之后，%s的分数是：%d' % (name, score))"
   ]
  },
  {
   "cell_type": "markdown",
   "metadata": {},
   "source": [
    "### if...else结构"
   ]
  },
  {
   "cell_type": "markdown",
   "metadata": {},
   "source": [
    "### if...elif...else结构"
   ]
  },
  {
   "cell_type": "markdown",
   "metadata": {},
   "source": [
    "## 3. 循环语句"
   ]
  },
  {
   "cell_type": "markdown",
   "metadata": {},
   "source": [
    "## 4. 函数"
   ]
  },
  {
   "cell_type": "markdown",
   "metadata": {},
   "source": [
    "### 查看函数帮助"
   ]
  },
  {
   "cell_type": "markdown",
   "metadata": {},
   "source": [
    "## 5. 包：package"
   ]
  },
  {
   "cell_type": "markdown",
   "metadata": {},
   "source": [
    "## 6. 斐波那契数列"
   ]
  },
  {
   "cell_type": "markdown",
   "metadata": {},
   "source": [
    "## 7. 杨辉三角"
   ]
  }
 ],
 "metadata": {
  "kernelspec": {
   "display_name": "Python 3",
   "language": "python",
   "name": "python3"
  },
  "language_info": {
   "codemirror_mode": {
    "name": "ipython",
    "version": 3
   },
   "file_extension": ".py",
   "mimetype": "text/x-python",
   "name": "python",
   "nbconvert_exporter": "python",
   "pygments_lexer": "ipython3",
   "version": "3.7.6"
  }
 },
 "nbformat": 4,
 "nbformat_minor": 2
}
