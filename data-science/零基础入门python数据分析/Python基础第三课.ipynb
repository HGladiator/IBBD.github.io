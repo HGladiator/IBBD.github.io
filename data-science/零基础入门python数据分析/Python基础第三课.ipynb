{
 "cells": [
  {
   "cell_type": "markdown",
   "metadata": {},
   "source": [
    "# Python基础第三课：基础结构\n",
    "\n",
    "前面已经讲了notebook的基础使用，python的基础语法及常用的数据结构及其运算，包括:\n",
    "\n",
    "- 整型\n",
    "- 浮点型\n",
    "- 布尔型\n",
    "- 字符串\n",
    "- 元组\n",
    "- 列表\n",
    "- 集合\n",
    "- 字典\n",
    "\n",
    "其中，前五种类型是不可变类型，后面三种是可变类型，而不可变类型才能作为集合的元素或者字典的键。\n",
    "\n",
    "python的语法除了赋值语句，还有一些基础的结构，这是这次课的主体内容，包括：\n",
    "\n",
    "- 打印语句的高级用法\n",
    "- 条件语句\n",
    "- 循环语句\n",
    "- 函数\n",
    "- 包\n",
    "\n",
    "在学习python的基础结构时，可以多多使用 http://pythontutor.com/visualize.html 这个工具去理解python时怎么进行的。"
   ]
  },
  {
   "cell_type": "markdown",
   "metadata": {},
   "source": [
    "## 1. 打印语句\n",
    "\n",
    "前面已经讲了print的基础用法，这里再讲一下怎么使用print语句来进行格式化输出。"
   ]
  },
  {
   "cell_type": "code",
   "execution_count": null,
   "metadata": {},
   "outputs": [],
   "source": [
    "# 定义变量\n",
    "name = \"张三\"\n",
    "age = 18\n",
    "is_boy = True\n",
    "\n",
    "print('一个叫%s的人，今年%d岁，TA是一个男孩吗？%s' % (name, age, is_boy))"
   ]
  },
  {
   "cell_type": "markdown",
   "metadata": {},
   "source": [
    "格式化有几种常用的形式：\n",
    "\n",
    "- %d: 格式化成整数\n",
    "- %f：格式化成浮点数\n",
    "- %s: 格式化成字符串\n",
    "\n",
    "对于浮点数，可能还有一个是大家比较常用的，就是控制小数点后的位数。"
   ]
  },
  {
   "cell_type": "code",
   "execution_count": null,
   "metadata": {},
   "outputs": [],
   "source": [
    "pi = 3.1415926\n",
    "print('PI的近似值是：%.2f' % pi)"
   ]
  },
  {
   "cell_type": "markdown",
   "metadata": {},
   "source": [
    "当然，格式化还有很多很复杂的写法，需要用到的时候，大家可以再去深入学习。\n",
    "\n",
    "这个格式化字符串，其实也可以用于定义字符串："
   ]
  },
  {
   "cell_type": "code",
   "execution_count": null,
   "metadata": {},
   "outputs": [],
   "source": [
    "pi = 3.1415926\n",
    "s = 'PI的近似值是：%.2f' % pi\n",
    "print(s)"
   ]
  },
  {
   "attachments": {
    "image.png": {
     "image/png": "[encoded data removed]"
    }
   },
   "cell_type": "markdown",
   "metadata": {},
   "source": [
    "## 2. 条件语句\n",
    "\n",
    "条件语句（也称为分支语句，都是一样的意思）通常是这样模式：\n",
    "\n",
    "- 如果什么（条件） ，就做什么\n",
    "- 如果什么（条件），就做什么；否则做什么\n",
    "\n",
    "这是我们组织语言的常用结构，对于的python中：\n",
    "\n",
    "```python\n",
    "# 第一种：\n",
    "if 条件:\n",
    "    do some things ...\n",
    "    \n",
    "# 第二种：\n",
    "if 条件:\n",
    "    do some things ...\n",
    "else:\n",
    "    do other things ...\n",
    "```\n",
    "\n",
    "上面的只是伪代码，并不能实际运行。\n",
    "\n",
    "- 条件：就是布尔值，或者是一个能得到布尔值的运算。条件的后面需要由一个冒号\n",
    "- 动作（do some things）：这是if语句的嵌套子语句，必须通过缩进，通常缩进是4个空格\n",
    "\n",
    "条件语句的图示，如下图:\n",
    "\n",
    "![image.png](attachment:image.png)"
   ]
  },
  {
   "cell_type": "markdown",
   "metadata": {},
   "source": [
    "### 2.1 if结构"
   ]
  },
  {
   "cell_type": "code",
   "execution_count": null,
   "metadata": {},
   "outputs": [],
   "source": [
    "# 一个叫张三的人，考试成绩82分，是班干部，父母是医生\n",
    "name = '张三'\n",
    "score = 82\n",
    "parent = 'doctor'\n",
    "is_cadre = True      # 是否是班干部\n",
    "print('加分之后，%s的分数是：%d' % (name, score))\n",
    "\n",
    "# 定义可以加分的类型\n",
    "# 这里使用集合，其实还可以使用元组，列表等。\n",
    "point_types = {'doctor'}\n",
    "\n",
    "# 判断是否可以加分\n",
    "# parent in point_types 这个就是判断条件\n",
    "if parent in point_types:\n",
    "    score += 10\n",
    "    \n",
    "print('加分之后，%s的分数是：%d' % (name, score))"
   ]
  },
  {
   "cell_type": "markdown",
   "metadata": {},
   "source": [
    "### 2.2 if...else结构\n",
    "\n",
    "如果我们把上面if的地方改成如下:"
   ]
  },
  {
   "cell_type": "code",
   "execution_count": null,
   "metadata": {},
   "outputs": [],
   "source": [
    "# 判断是否可以加分\n",
    "# 如果满足我们的加分条件，则加10分，否则加5分\n",
    "if parent in point_types:\n",
    "    score += 10\n",
    "else:\n",
    "    score += 5"
   ]
  },
  {
   "cell_type": "markdown",
   "metadata": {},
   "source": [
    "### 2.3 if...elif...else结构\n",
    "\n",
    "我们的加分条件进一步复杂，如果父母满足条件，且是班干部，则加10分；如果只满足其中一个条件，则加5分；如果都不满足，则加2分。实现如下:"
   ]
  },
  {
   "cell_type": "code",
   "execution_count": null,
   "metadata": {},
   "outputs": [],
   "source": [
    "if parent in point_types and is_cadre:\n",
    "    score += 10\n",
    "elif parent in point_types or is_cadre:\n",
    "    score += 5\n",
    "else:\n",
    "    score += 2"
   ]
  },
  {
   "cell_type": "markdown",
   "metadata": {},
   "source": [
    "当然elif之后不一定需要else的。"
   ]
  },
  {
   "cell_type": "markdown",
   "metadata": {},
   "source": [
    "## 3. 循环语句\n",
    "\n",
    "例如，如果我们需要将1到10的数字逐一打印出来，当然我们可以写10个print，那就有10行代码，非常啰嗦。这时，我们就有必要引入循环语句了。\n",
    "\n",
    "说明：python的循环除了有for循环，其实也有while循环，但是实际上基本能用while实现的，都可以使用for进行实现，自己在使用python的过程中，几乎很少用到while，所以并不准备讲while，感兴趣的可以自己去学习。\n",
    "\n",
    "For循环：\n",
    "\n",
    "```python\n",
    "for 循环变量 in 可循环变量:\n",
    "    循环体\n",
    "```\n",
    "\n",
    "- 循环体需要进行缩进，通常时4个空格\n",
    "- 在循环体中可以使用循环变量\n",
    "- 可循环变量，例如元组，列表等"
   ]
  },
  {
   "cell_type": "markdown",
   "metadata": {},
   "source": [
    "### 3.1 对值进行循环\n",
    "\n",
    "把1到10打印出来："
   ]
  },
  {
   "cell_type": "code",
   "execution_count": null,
   "metadata": {},
   "outputs": [],
   "source": [
    "a = (1,2,3,4,5,6,7,8,9,10)\n",
    "# 依次从元组a中取出一个值，赋值给val\n",
    "for val in a:     # val是循环变量\n",
    "    print(val)     # 循环体"
   ]
  },
  {
   "cell_type": "markdown",
   "metadata": {},
   "source": [
    "不过就这个问题而言，最简单的还不是这样，后面会讲到另一个函数。\n",
    "\n",
    "对值进行循环适用于字符串，元组，列表，集合等。"
   ]
  },
  {
   "cell_type": "markdown",
   "metadata": {},
   "source": [
    "### 3.2 对键进行循环"
   ]
  },
  {
   "cell_type": "markdown",
   "metadata": {},
   "source": [
    "如果需要对键进行循环，则需要使用一个range的函数，该函数会生成一个类似元组的结构，可以进行循环。\n",
    "\n",
    "range(n)生成的是从0到n-1的整数的元组（暂时可以理解为元组，但是并不是元组）。"
   ]
  },
  {
   "cell_type": "code",
   "execution_count": null,
   "metadata": {},
   "outputs": [],
   "source": [
    "for i in range(len(a)):\n",
    "    print(a[i])"
   ]
  },
  {
   "cell_type": "markdown",
   "metadata": {},
   "source": [
    "对键进行循环适合于字符串，元组和列表等，但不能用于集合（因为集合是无序的）。"
   ]
  },
  {
   "cell_type": "markdown",
   "metadata": {},
   "source": [
    "### 3.3 对字典进行循环\n",
    "\n",
    "字典本身是无序的，好像并不应该进行循环，不过事实上，字典是可以循环的。在python中，字典三个函数是可以用来循环的：\n",
    "\n",
    "- d.keys(): 这样可以得到字典d的键的列表\n",
    "- d.values(): 这样可以得到字典d的值的列表\n",
    "- d.items(): 这样可以得到字典d的键值对的列表"
   ]
  },
  {
   "cell_type": "code",
   "execution_count": null,
   "metadata": {},
   "outputs": [],
   "source": [
    "# 定义一个字典\n",
    "d = {\n",
    "    'a': 1,\n",
    "    'b': 2,\n",
    "    'c': 3,\n",
    "}\n",
    "\n",
    "for k in d.keys():\n",
    "    print(k)\n",
    "\n",
    "for v in d.values():\n",
    "    print(v)\n",
    "\n",
    "for k, v in d.items():\n",
    "    print(\"键: %s, 值: %d\" % (k, v))"
   ]
  },
  {
   "cell_type": "markdown",
   "metadata": {},
   "source": [
    "### 3.4 打印九九乘法表\n",
    "\n",
    "九九乘法表大家都见过，我们尝试将它用python打印出来："
   ]
  },
  {
   "cell_type": "code",
   "execution_count": null,
   "metadata": {},
   "outputs": [],
   "source": [
    "for i in range(1, 10):\n",
    "    # 子循环\n",
    "    for j in range(1, i+1):\n",
    "        print(\"%d * %d = %d\" % (i, j, i*j))"
   ]
  },
  {
   "cell_type": "markdown",
   "metadata": {},
   "source": [
    "range函数只有一个参数的时候，前面已经介绍过了，如果有两个参数：\n",
    "\n",
    "range(start, end): 会生成一个从start到end-1的整数元组（同样，这里说元组只是方便理解）。"
   ]
  },
  {
   "cell_type": "markdown",
   "metadata": {},
   "source": [
    "### 3.5 循环中的几个常用的函数\n",
    "\n",
    "#### 3.5.1 zip函数"
   ]
  },
  {
   "cell_type": "markdown",
   "metadata": {},
   "source": [
    "如果我们有一个姓名的列表，也有一个对应的成绩的列表，如果现在要将姓名和成绩对应起来，这时使用zip函数就很方便："
   ]
  },
  {
   "cell_type": "code",
   "execution_count": null,
   "metadata": {},
   "outputs": [],
   "source": [
    "names = ['张三', '李四', '王五']\n",
    "scores = [66, 89, 59]\n",
    "\n",
    "# 循环打印出来\n",
    "# name对应names\n",
    "# score对应scores\n",
    "for name, score in zip(names, scores):\n",
    "    print('%s的成绩是：%d' % (name, score))\n",
    "    \n",
    "# 我们也可以使用一个字典来保持姓名和成绩的对应起来\n",
    "name_scores = {}    # 先定义一个字典\n",
    "for name, score in zip(names, scores):\n",
    "    name_scores[name] = score\n",
    "\n",
    "print(name_scores)"
   ]
  },
  {
   "cell_type": "markdown",
   "metadata": {},
   "source": [
    "#### 3.5.2 enumerate函数\n",
    "\n",
    "上面我们已经有了对键的循环，也有对值的循环，那么能不能同时对键值进行循环呢？例如：如果我们需要打印列表的偶数下标对应的值："
   ]
  },
  {
   "cell_type": "code",
   "execution_count": null,
   "metadata": {},
   "outputs": [],
   "source": [
    "a = [1,2,3,4,5,6,7,8,9,10]\n",
    "\n",
    "# 按照前面，我们可以使用对键的循环来实现\n",
    "for i in range(len(a)):\n",
    "    if i % 2 == 0:     # 取余运算\n",
    "        print(a[i])\n",
    "        \n",
    "# 但是如果使用enumerate函数，则会简单很多\n",
    "for k, v in enumerate(a):\n",
    "    if k % 2 == 0:\n",
    "        print(v)"
   ]
  },
  {
   "cell_type": "markdown",
   "metadata": {},
   "source": [
    "显然，enumerate函数返回一个键值对，类似字典的items函数。这个对于元组也是一样的。"
   ]
  },
  {
   "cell_type": "markdown",
   "metadata": {},
   "source": [
    "## 4. 函数"
   ]
  },
  {
   "cell_type": "markdown",
   "metadata": {},
   "source": [
    "### 4.1 内置函数\n",
    "\n",
    "前面已经讲到的内置函数：\n",
    "\n",
    "- print\n",
    "- int\n",
    "- rount\n",
    "- abs\n",
    "- float\n",
    "- range\n",
    "- zip\n",
    "- enumerate\n",
    "\n",
    "float前面暂时没涉及到，后面可能需要用到的。\n",
    "\n",
    "像for, in, and, or, not等，这些并不是函数。"
   ]
  },
  {
   "cell_type": "markdown",
   "metadata": {},
   "source": [
    "### 4.2 数据变量的常用函数"
   ]
  },
  {
   "cell_type": "markdown",
   "metadata": {},
   "source": [
    "对于字符串，元组，列表，集合和字典等，python都提供了很多内置的函数，而每个函数又有不同的参数，我们很难去记住它们。最重要的是，我们需要大概知道每种类型大概能实现什么功能，然后去哪里可以查到这些方法，及其使用的方式。这是我们学习编程最重要的技能之一。"
   ]
  },
  {
   "cell_type": "markdown",
   "metadata": {},
   "source": [
    "### 4.3  自定义函数"
   ]
  },
  {
   "cell_type": "markdown",
   "metadata": {},
   "source": [
    "### 4. "
   ]
  },
  {
   "cell_type": "markdown",
   "metadata": {},
   "source": [
    "### 查看函数帮助"
   ]
  },
  {
   "cell_type": "markdown",
   "metadata": {},
   "source": [
    "## 5. 包：package"
   ]
  },
  {
   "cell_type": "markdown",
   "metadata": {},
   "source": [
    "## 6. 斐波那契数列"
   ]
  },
  {
   "cell_type": "markdown",
   "metadata": {},
   "source": [
    "## 7. 杨辉三角"
   ]
  }
 ],
 "metadata": {
  "kernelspec": {
   "display_name": "Python 3",
   "language": "python",
   "name": "python3"
  },
  "language_info": {
   "codemirror_mode": {
    "name": "ipython",
    "version": 3
   },
   "file_extension": ".py",
   "mimetype": "text/x-python",
   "name": "python",
   "nbconvert_exporter": "python",
   "pygments_lexer": "ipython3",
   "version": "3.7.6"
  }
 },
 "nbformat": 4,
 "nbformat_minor": 2
}
