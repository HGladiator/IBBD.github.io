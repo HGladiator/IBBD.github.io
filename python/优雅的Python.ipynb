{
 "cells": [
  {
   "cell_type": "markdown",
   "metadata": {},
   "source": [
    "# 优雅的Python"
   ]
  },
  {
   "cell_type": "markdown",
   "metadata": {},
   "source": [
    "## 1. Python哲学"
   ]
  },
  {
   "cell_type": "markdown",
   "metadata": {},
   "source": [
    "在命令行下执行`import this`就能看到，以下是相应的翻译：\n",
    "```\n",
    "Beautiful is better than ugly.\n",
    "优雅胜于丑陋。\n",
    "\n",
    "Explicit is better than implicit.\n",
    "明确胜于含糊。\n",
    "\n",
    "Simple is better than complex.\n",
    "简单胜于复杂。\n",
    "\n",
    "Complex is better than complicated.\n",
    "复杂胜于繁琐。\n",
    "\n",
    "Flat is better than nested.\n",
    "扁平胜于嵌套。\n",
    "\n",
    "Sparse is better than dense.\n",
    "间隔胜于紧凑。\n",
    "\n",
    "Readability counts.\n",
    "可读性很重要。\n",
    "\n",
    "Special cases aren't special enough to break the rules.\n",
    "即使假借特殊之名，也不应打破这些原则。\n",
    "\n",
    "Although practicality beats purity.\n",
    "尽管实践大于理论。\n",
    "\n",
    "Errors should never pass silently.\n",
    "错误不可置之不理。\n",
    "\n",
    "Unless explicitly silenced.\n",
    "除非另有明确要求。\n",
    "\n",
    "In the face of ambiguity, refuse the temptation to guess.\n",
    "面对模棱两可，拒绝猜测。\n",
    "\n",
    "There should be one-- and preferably only one --obvious way to do it.\n",
    "用一种方法，最好是只有一种方法来做一件事。\n",
    "\n",
    "Although that way may not be obvious at first unless you're Dutch.\n",
    "虽然这种方式开始时并不容易，除非你是 Python 之父。\n",
    "\n",
    "Now is better than never.\n",
    "但从现在就开始这么做，总比永远都不做好。\n",
    "\n",
    "Although never is often better than *right* now.\n",
    "尽管经常有时 “没有做” 反倒比 “现在立马做“ 结果要好。\n",
    "\n",
    "If the implementation is hard to explain, it's a bad idea.\n",
    "如果一个实现不容易解释，那么它肯定是个坏主意。\n",
    "\n",
    "If the implementation is easy to explain, it may be a good idea.\n",
    "如果一个实现很容易解释，那么它也许是个好主意。\n",
    "\n",
    "Namespaces are one honking great idea -- let's do more of those!\n",
    "就像命名空间就是一个绝妙的想法，应当多加利用。\n",
    "```"
   ]
  },
  {
   "cell_type": "code",
   "execution_count": 8,
   "metadata": {},
   "outputs": [
    {
     "data": {
      "text/plain": [
       "<module 'this' from '/opt/conda/lib/python3.6/this.py'>"
      ]
     },
     "execution_count": 8,
     "metadata": {},
     "output_type": "execute_result"
    }
   ],
   "source": [
    "import this"
   ]
  },
  {
   "cell_type": "markdown",
   "metadata": {},
   "source": [
    "## 2. 基础数据结构\n",
    "\n",
    "Python有哪些基础的数据结构，各自有什么特点"
   ]
  },
  {
   "cell_type": "markdown",
   "metadata": {},
   "source": [
    "## 3. 编码格式"
   ]
  },
  {
   "cell_type": "markdown",
   "metadata": {},
   "source": [
    "## 4. Pythonic"
   ]
  },
  {
   "cell_type": "code",
   "execution_count": 13,
   "metadata": {},
   "outputs": [
    {
     "name": "stdout",
     "output_type": "stream",
     "text": [
      "All True!\n",
      "foo\n",
      "ok\n",
      "ok\n"
     ]
    }
   ],
   "source": [
    "# 初始化赋值\n",
    "a = 3\n",
    "b = 1\n",
    "\n",
    "# 链式比较\n",
    "b >= 1 and b <= a and a < 10 #True\n",
    "\n",
    "# 真值测试\n",
    "name = 'Tim'\n",
    "langs = ['AS3', 'Lua', 'C']\n",
    "info = {'name': 'Tim', 'sex': 'Male', 'age':23 }    \n",
    " \n",
    "if name != '' and len(langs) > 0 and info != {}:\n",
    "    print('All True!') #All True!\n",
    "    \n",
    "# if/else 三目运算\n",
    "gender = 'male'\n",
    "if gender == 'male':\n",
    "    text = '男'\n",
    "else:\n",
    "    text = '女'\n",
    " \n",
    "# 字符串格式化\n",
    "s1 = \"ibbd.net\"\n",
    "s2 = \"eyemodel\"\n",
    "s3 = \"welcome to %s and following %s\" % (s1, s2)\n",
    "\n",
    "# 列表切片\n",
    "items = range(10)\n",
    " \n",
    "# 奇数\n",
    "odd_items = []\n",
    "for i in items:\n",
    "    if i % 2 != 0:\n",
    "        odd_items.append(i)\n",
    " \n",
    "# 拷贝\n",
    "copy_items = []\n",
    "for i in items:\n",
    "    copy_items.append(i)\n",
    "    \n",
    "# 获取字典元素\n",
    "d = {'name': 'foo'}\n",
    "if 'name' in d:\n",
    "    print(d['name'])\n",
    "else:\n",
    "    print('unknown')\n",
    "    \n",
    "# 字典默认值\n",
    "data = [('foo', 10), ('bar', 20), ('foo', 39), ('bar', 49)]\n",
    "groups = {}\n",
    "for (key, value) in data:\n",
    "    if key in groups:\n",
    "        groups[key].append(value)\n",
    "    else:\n",
    "        groups[key] = [value]\n",
    "        \n",
    "# 推导式\n",
    "\n",
    "\n",
    "# 字符串拼接\n",
    "res = ''\n",
    "for s in langs:\n",
    "    res += s + ' '\n",
    "\n",
    "# 序列解包\n",
    "\n",
    "# zip, enumerate的用法\n",
    "\n",
    "# 多条件判断：and\n",
    "a = 3\n",
    "b = 1\n",
    "c = 2\n",
    "if a == 3 and b == 1 and c == 2:\n",
    "    print('ok')\n",
    "\n",
    "# 多条件判断：or\n",
    "if a == 3 or b == 1 or c == 2:\n",
    "    print('ok')"
   ]
  }
 ],
 "metadata": {
  "kernelspec": {
   "display_name": "Python 3",
   "language": "python",
   "name": "python3"
  },
  "language_info": {
   "codemirror_mode": {
    "name": "ipython",
    "version": 3
   },
   "file_extension": ".py",
   "mimetype": "text/x-python",
   "name": "python",
   "nbconvert_exporter": "python",
   "pygments_lexer": "ipython3",
   "version": "3.6.7"
  }
 },
 "nbformat": 4,
 "nbformat_minor": 2
}
